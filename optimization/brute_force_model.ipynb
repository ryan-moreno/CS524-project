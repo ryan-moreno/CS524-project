{
 "cells": [
  {
   "cell_type": "markdown",
   "metadata": {},
   "source": [
    "To run via slurm, first output the ipynb notebook to python using `jupyter nbconvert --to script optimization_model.ipynb`"
   ]
  },
  {
   "cell_type": "code",
   "execution_count": 8,
   "metadata": {},
   "outputs": [],
   "source": [
    "import time\n",
    "import pandas as pd\n",
    "import matplotlib.pyplot as plt\n",
    "import re"
   ]
  },
  {
   "cell_type": "markdown",
   "metadata": {},
   "source": [
    "## Load precomputed combinations to save computation time"
   ]
  },
  {
   "cell_type": "code",
   "execution_count": 32,
   "metadata": {},
   "outputs": [],
   "source": [
    "comb_df = pd.read_pickle(\"../precompute_combinations/precomputed_combinations_df.pkl\")\n",
    "\n",
    "def choose(n, k):\n",
    "    index = n * 1201 + k\n",
    "    return comb_df.at[index, \"n_choose_k\"]"
   ]
  },
  {
   "cell_type": "markdown",
   "metadata": {},
   "source": [
    "## Probabilities based on our data analysis"
   ]
  },
  {
   "cell_type": "code",
   "execution_count": 29,
   "metadata": {},
   "outputs": [],
   "source": [
    "# Approximate probability of a goal in a given second\n",
    "seconds_in_game = 20 * 60 * 3\n",
    "\n",
    "# Probability of a goal in a given second during 5v5\n",
    "p_a1 = 5.18 * 10**-4\n",
    "p_b1 = p_a1\n",
    "\n",
    "# Probability of the other team scoring during 6v5 increases\n",
    "p_b2 = 7.85 * 10**-4\n",
    "\n",
    "# Probability of our team scoring during 6v5 also increases, though not as much\n",
    "p_a2 = 7.22 * 10**-4"
   ]
  },
  {
   "cell_type": "markdown",
   "metadata": {},
   "source": [
    "## Inputs to model"
   ]
  },
  {
   "cell_type": "code",
   "execution_count": 30,
   "metadata": {},
   "outputs": [],
   "source": [
    "# Let's say the current score is 1 - 3\n",
    "a_0 = 1\n",
    "b_0 = 3\n",
    "\n",
    "# 5 minutes left in the game\n",
    "T = 5 * 60"
   ]
  },
  {
   "cell_type": "markdown",
   "metadata": {},
   "source": [
    "## Brute force every choice of $s$\n",
    "\n",
    "Launching via slurm on SSCC clusters to speed up"
   ]
  },
  {
   "cell_type": "code",
   "execution_count": null,
   "metadata": {},
   "outputs": [],
   "source": [
    "decisions_df = pd.DataFrame(columns = [\n",
    "    'pull_time',\n",
    "    'prob_success',\n",
    "    'compute_time'])\n",
    "\n",
    "results = []\n",
    "\n",
    "#  Try out each possible time to pull the goalie\n",
    "for s in range(1, T):\n",
    "\n",
    "    # Timing for performance metrics\n",
    "    start_time = time.time()\n",
    "\n",
    "    prob_success = 0\n",
    "\n",
    "    # Tracking num_arrangements for complexity considerations\n",
    "    num_arrangements = 0\n",
    "\n",
    "    # Number of goals scored by other team before pulling the goalie\n",
    "    for g_b1 in range(0, s):\n",
    "        prob_gb1 = choose(s, g_b1) * (p_b1 ** g_b1) * ((1 - p_b1) ** (s - g_b1))\n",
    "\n",
    "        # Number of goals scored by our team before pulling the goalie\n",
    "        for g_a1 in range(0, s):\n",
    "            prob_ga1 = choose(s, g_a1) * (p_a1 ** g_a1) * ((1 - p_a1) ** (s - g_a1))\n",
    "\n",
    "            # Number of goals scored by other team after pulling the goalie\n",
    "            for g_b2 in range(0, T - s):\n",
    "                prob_gb2 = choose(T - s, g_b2) * (p_b2 ** g_b2) * ((1 - p_b2) ** (T - s - g_b2))\n",
    "\n",
    "                # Number of goals scored by our team after pulling the goalie\n",
    "                for g_a2 in range(0, T - s):\n",
    "                    num_arrangements += 1\n",
    "                    prob_ga2 = choose(T - s, g_a2) * (p_a2 ** g_a2) * ((1 - p_a2) ** (T - s - g_a2))\n",
    "\n",
    "                    # Probability of this event\n",
    "                    prob = prob_gb1 * prob_ga1 * prob_gb2 * prob_ga2\n",
    "\n",
    "                    # Update the score\n",
    "                    a = a_0 + g_a1 + g_a2\n",
    "                    b = b_0 + g_b1 + g_b2\n",
    "\n",
    "                    # Success if we win or tie\n",
    "                    success = (a >= b)\n",
    "\n",
    "                    prob_success = prob_success + prob * success\n",
    "\n",
    "    prob_success = round(prob_success * 100, 4)\n",
    "\n",
    "    end_time = time.time()\n",
    "    elapsed_time = end_time - start_time\n",
    "    elapsed_time = round(elapsed_time, 2)\n",
    "\n",
    "    display(f\"Pull time: {s}, num_arrangements: {num_arrangements} Probability of success: {prob_success}, Compute time: {elapsed_time}\")\n",
    "\n",
    "    results.append({\n",
    "        \"pull_time\": s,\n",
    "        \"prob_success\": prob_success,\n",
    "        \"compute_time\": elapsed_time\n",
    "    })\n",
    "\n",
    "decisions_df = pd.DataFrame(results)\n",
    "\n",
    "display(decisions_df)\n",
    "\n",
    "decisions_df.to_csv(\"temp_pull_goalie_decisions.csv\", index=False)"
   ]
  },
  {
   "cell_type": "markdown",
   "metadata": {},
   "source": [
    "## Select the optimal choice"
   ]
  },
  {
   "cell_type": "code",
   "execution_count": null,
   "metadata": {},
   "outputs": [],
   "source": [
    "optimal_index = decisions_df[\"prob_success\"].idxmax()\n",
    "optimal_time = decisions_df.loc[optimal_index, \"pull_time\"]\n",
    "optimal_prob = decisions_df.loc[optimal_index, \"prob_success\"]\n",
    "\n",
    "print(f\"Optimal time to pull the goalie: {optimal_time} seconds, resulting in a probability of {optimal_prob} of winning or tying the game.\")"
   ]
  },
  {
   "cell_type": "markdown",
   "metadata": {},
   "source": [
    "## Function to read partial output from slurm out txt file"
   ]
  },
  {
   "cell_type": "code",
   "execution_count": null,
   "metadata": {},
   "outputs": [],
   "source": [
    "# Parse partial results from slurm out file\n",
    "results = []\n",
    "pattern = r\"Pull time: (\\d+), num_arrangements: (\\d+) Probability of success: ([\\d.]+), Compute time: ([\\d.]+)\"\n",
    "\n",
    "# Read in lines from temp.txt\n",
    "with open(\"temp.txt\") as f:\n",
    "    lines = f.readlines()\n",
    "    for line in lines:\n",
    "        line = line.strip()\n",
    "\n",
    "        if line.startswith(\"Pull time:\"):\n",
    "            match = re.search(pattern, line)\n",
    "            pull_time = int(match.group(1))\n",
    "            num_arrangements = int(match.group(2))\n",
    "            prob_success = float(match.group(3))\n",
    "            compute_time = float(match.group(4))\n",
    "            results.append({\n",
    "                \"pull_time\": pull_time,\n",
    "                \"num_arrangements\": num_arrangements,\n",
    "                \"prob_success\": prob_success,\n",
    "                \"compute_time\": compute_time\n",
    "            })\n",
    "\n",
    "# Create a DataFrame from the results\n",
    "decisions_df = pd.DataFrame(results)\n",
    "display(decisions_df)\n",
    "decisions_df.to_pickle(\"results/temp_pull_goalie_decisions.pkl\")"
   ]
  }
 ],
 "metadata": {
  "kernelspec": {
   "display_name": "general_purpose_venv",
   "language": "python",
   "name": "python3"
  },
  "language_info": {
   "codemirror_mode": {
    "name": "ipython",
    "version": 3
   },
   "file_extension": ".py",
   "mimetype": "text/x-python",
   "name": "python",
   "nbconvert_exporter": "python",
   "pygments_lexer": "ipython3",
   "version": "3.12.3"
  }
 },
 "nbformat": 4,
 "nbformat_minor": 2
}
