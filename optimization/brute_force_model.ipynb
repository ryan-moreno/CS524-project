{
 "cells": [
  {
   "cell_type": "markdown",
   "metadata": {},
   "source": [
    "To run via slurm, first output the ipynb notebook to python using `jupyter nbconvert --to script optimization_model.ipynb`"
   ]
  },
  {
   "cell_type": "code",
   "execution_count": 14,
   "metadata": {},
   "outputs": [],
   "source": [
    "import time\n",
    "import pandas as pd\n",
    "import matplotlib.pyplot as plt\n",
    "import re"
   ]
  },
  {
   "cell_type": "markdown",
   "metadata": {},
   "source": [
    "## Load precomputed combinations to save computation time"
   ]
  },
  {
   "cell_type": "code",
   "execution_count": 13,
   "metadata": {},
   "outputs": [],
   "source": [
    "comb_df = pd.read_pickle(\"../precompute_combinations/precomputed_combinations_df.pkl\")\n",
    "\n",
    "def choose(n, k):\n",
    "    index = n * 1201 + k\n",
    "    return comb_df.at[index, \"n_choose_k\"]"
   ]
  },
  {
   "cell_type": "markdown",
   "metadata": {},
   "source": [
    "## Probabilities based on our data analysis"
   ]
  },
  {
   "cell_type": "code",
   "execution_count": 202,
   "metadata": {},
   "outputs": [],
   "source": [
    "# Probability of a goal in a given 10 second period during 5v5\n",
    "p_a1 = 5.18 * 10**-3\n",
    "p_b1 = p_a1\n",
    "\n",
    "# Probability of the other team scoring in a given 10 second period during 6v5 increases\n",
    "p_b2 = 7.85 * 10**-3\n",
    "\n",
    "# Probability of our team scoring during 6v5 also increases, though not as much\n",
    "p_a2 = 7.22 * 10**-3 # Calculated from our data. Results in \"Always pull the goalie\" strategy"
   ]
  },
  {
   "cell_type": "markdown",
   "metadata": {},
   "source": [
    "## Inputs to model"
   ]
  },
  {
   "cell_type": "code",
   "execution_count": 211,
   "metadata": {},
   "outputs": [],
   "source": [
    "# Let's say the current score is 1 - 2\n",
    "a_0 = 1\n",
    "b_0 = 2\n",
    "\n",
    "# 15 minutes left\n",
    "minutes_left = 15"
   ]
  },
  {
   "cell_type": "markdown",
   "metadata": {},
   "source": [
    "## Brute force every choice of $s$\n",
    "\n",
    "Each team is allowed to score either 0 or 1 goals in each 10 second period.\n",
    "\n",
    "Launching via slurm on SSCC clusters to speed up"
   ]
  },
  {
   "cell_type": "code",
   "execution_count": 212,
   "metadata": {},
   "outputs": [
    {
     "data": {
      "text/plain": [
       "'Pull time: 0 seconds, num_arrangements: 8281 Probability of success: 28.7646, Compute time: 0.02'"
      ]
     },
     "metadata": {},
     "output_type": "display_data"
    },
    {
     "data": {
      "text/plain": [
       "'Pull time: 10 seconds, num_arrangements: 32400 Probability of success: 28.7409, Compute time: 0.07'"
      ]
     },
     "metadata": {},
     "output_type": "display_data"
    },
    {
     "data": {
      "text/plain": [
       "'Pull time: 20 seconds, num_arrangements: 71289 Probability of success: 28.717, Compute time: 0.15'"
      ]
     },
     "metadata": {},
     "output_type": "display_data"
    },
    {
     "data": {
      "text/plain": [
       "'Pull time: 30 seconds, num_arrangements: 123904 Probability of success: 28.693, Compute time: 0.27'"
      ]
     },
     "metadata": {},
     "output_type": "display_data"
    },
    {
     "data": {
      "text/plain": [
       "'Pull time: 40 seconds, num_arrangements: 189225 Probability of success: 28.6689, Compute time: 0.4'"
      ]
     },
     "metadata": {},
     "output_type": "display_data"
    },
    {
     "data": {
      "text/plain": [
       "'Pull time: 50 seconds, num_arrangements: 266256 Probability of success: 28.6445, Compute time: 0.56'"
      ]
     },
     "metadata": {},
     "output_type": "display_data"
    },
    {
     "data": {
      "text/plain": [
       "'Pull time: 60 seconds, num_arrangements: 354025 Probability of success: 28.62, Compute time: 0.75'"
      ]
     },
     "metadata": {},
     "output_type": "display_data"
    },
    {
     "data": {
      "text/plain": [
       "'Pull time: 70 seconds, num_arrangements: 451584 Probability of success: 28.5953, Compute time: 0.95'"
      ]
     },
     "metadata": {},
     "output_type": "display_data"
    },
    {
     "data": {
      "text/plain": [
       "'Pull time: 80 seconds, num_arrangements: 558009 Probability of success: 28.5705, Compute time: 1.23'"
      ]
     },
     "metadata": {},
     "output_type": "display_data"
    },
    {
     "data": {
      "text/plain": [
       "'Pull time: 90 seconds, num_arrangements: 672400 Probability of success: 28.5455, Compute time: 1.44'"
      ]
     },
     "metadata": {},
     "output_type": "display_data"
    },
    {
     "data": {
      "text/plain": [
       "'Pull time: 100 seconds, num_arrangements: 793881 Probability of success: 28.5203, Compute time: 1.69'"
      ]
     },
     "metadata": {},
     "output_type": "display_data"
    },
    {
     "data": {
      "text/plain": [
       "'Pull time: 110 seconds, num_arrangements: 921600 Probability of success: 28.4949, Compute time: 2.01'"
      ]
     },
     "metadata": {},
     "output_type": "display_data"
    },
    {
     "data": {
      "text/plain": [
       "'Pull time: 120 seconds, num_arrangements: 1054729 Probability of success: 28.4694, Compute time: 2.3'"
      ]
     },
     "metadata": {},
     "output_type": "display_data"
    },
    {
     "data": {
      "text/plain": [
       "'Pull time: 130 seconds, num_arrangements: 1192464 Probability of success: 28.4436, Compute time: 2.56'"
      ]
     },
     "metadata": {},
     "output_type": "display_data"
    },
    {
     "data": {
      "text/plain": [
       "'Pull time: 140 seconds, num_arrangements: 1334025 Probability of success: 28.4177, Compute time: 2.89'"
      ]
     },
     "metadata": {},
     "output_type": "display_data"
    },
    {
     "data": {
      "text/plain": [
       "'Pull time: 150 seconds, num_arrangements: 1478656 Probability of success: 28.3917, Compute time: 3.26'"
      ]
     },
     "metadata": {},
     "output_type": "display_data"
    },
    {
     "data": {
      "text/plain": [
       "'Pull time: 160 seconds, num_arrangements: 1625625 Probability of success: 28.3654, Compute time: 3.48'"
      ]
     },
     "metadata": {},
     "output_type": "display_data"
    },
    {
     "data": {
      "text/plain": [
       "'Pull time: 170 seconds, num_arrangements: 1774224 Probability of success: 28.339, Compute time: 3.79'"
      ]
     },
     "metadata": {},
     "output_type": "display_data"
    },
    {
     "data": {
      "text/plain": [
       "'Pull time: 180 seconds, num_arrangements: 1923769 Probability of success: 28.3124, Compute time: 4.14'"
      ]
     },
     "metadata": {},
     "output_type": "display_data"
    },
    {
     "data": {
      "text/plain": [
       "'Pull time: 190 seconds, num_arrangements: 2073600 Probability of success: 28.2856, Compute time: 4.43'"
      ]
     },
     "metadata": {},
     "output_type": "display_data"
    },
    {
     "data": {
      "text/plain": [
       "'Pull time: 200 seconds, num_arrangements: 2223081 Probability of success: 28.2586, Compute time: 4.81'"
      ]
     },
     "metadata": {},
     "output_type": "display_data"
    },
    {
     "data": {
      "text/plain": [
       "'Pull time: 210 seconds, num_arrangements: 2371600 Probability of success: 28.2314, Compute time: 5.18'"
      ]
     },
     "metadata": {},
     "output_type": "display_data"
    },
    {
     "data": {
      "text/plain": [
       "'Pull time: 220 seconds, num_arrangements: 2518569 Probability of success: 28.2041, Compute time: 5.49'"
      ]
     },
     "metadata": {},
     "output_type": "display_data"
    },
    {
     "data": {
      "text/plain": [
       "'Pull time: 230 seconds, num_arrangements: 2663424 Probability of success: 28.1765, Compute time: 5.7'"
      ]
     },
     "metadata": {},
     "output_type": "display_data"
    },
    {
     "data": {
      "text/plain": [
       "'Pull time: 240 seconds, num_arrangements: 2805625 Probability of success: 28.1488, Compute time: 5.97'"
      ]
     },
     "metadata": {},
     "output_type": "display_data"
    },
    {
     "data": {
      "text/plain": [
       "'Pull time: 250 seconds, num_arrangements: 2944656 Probability of success: 28.1208, Compute time: 6.35'"
      ]
     },
     "metadata": {},
     "output_type": "display_data"
    },
    {
     "data": {
      "text/plain": [
       "'Pull time: 260 seconds, num_arrangements: 3080025 Probability of success: 28.0927, Compute time: 6.57'"
      ]
     },
     "metadata": {},
     "output_type": "display_data"
    },
    {
     "data": {
      "text/plain": [
       "'Pull time: 270 seconds, num_arrangements: 3211264 Probability of success: 28.0644, Compute time: 6.74'"
      ]
     },
     "metadata": {},
     "output_type": "display_data"
    },
    {
     "data": {
      "text/plain": [
       "'Pull time: 280 seconds, num_arrangements: 3337929 Probability of success: 28.0359, Compute time: 6.99'"
      ]
     },
     "metadata": {},
     "output_type": "display_data"
    },
    {
     "data": {
      "text/plain": [
       "'Pull time: 290 seconds, num_arrangements: 3459600 Probability of success: 28.0072, Compute time: 7.25'"
      ]
     },
     "metadata": {},
     "output_type": "display_data"
    },
    {
     "data": {
      "text/plain": [
       "'Pull time: 300 seconds, num_arrangements: 3575881 Probability of success: 27.9783, Compute time: 7.66'"
      ]
     },
     "metadata": {},
     "output_type": "display_data"
    },
    {
     "data": {
      "text/plain": [
       "'Pull time: 310 seconds, num_arrangements: 3686400 Probability of success: 27.9492, Compute time: 7.71'"
      ]
     },
     "metadata": {},
     "output_type": "display_data"
    },
    {
     "data": {
      "text/plain": [
       "'Pull time: 320 seconds, num_arrangements: 3790809 Probability of success: 27.9199, Compute time: 7.95'"
      ]
     },
     "metadata": {},
     "output_type": "display_data"
    },
    {
     "data": {
      "text/plain": [
       "'Pull time: 330 seconds, num_arrangements: 3888784 Probability of success: 27.8903, Compute time: 8.22'"
      ]
     },
     "metadata": {},
     "output_type": "display_data"
    },
    {
     "data": {
      "text/plain": [
       "'Pull time: 340 seconds, num_arrangements: 3980025 Probability of success: 27.8606, Compute time: 8.42'"
      ]
     },
     "metadata": {},
     "output_type": "display_data"
    },
    {
     "data": {
      "text/plain": [
       "'Pull time: 350 seconds, num_arrangements: 4064256 Probability of success: 27.8307, Compute time: 8.6'"
      ]
     },
     "metadata": {},
     "output_type": "display_data"
    },
    {
     "data": {
      "text/plain": [
       "'Pull time: 360 seconds, num_arrangements: 4141225 Probability of success: 27.8006, Compute time: 8.67'"
      ]
     },
     "metadata": {},
     "output_type": "display_data"
    },
    {
     "data": {
      "text/plain": [
       "'Pull time: 370 seconds, num_arrangements: 4210704 Probability of success: 27.7702, Compute time: 8.83'"
      ]
     },
     "metadata": {},
     "output_type": "display_data"
    },
    {
     "data": {
      "text/plain": [
       "'Pull time: 380 seconds, num_arrangements: 4272489 Probability of success: 27.7397, Compute time: 9.11'"
      ]
     },
     "metadata": {},
     "output_type": "display_data"
    },
    {
     "data": {
      "text/plain": [
       "'Pull time: 390 seconds, num_arrangements: 4326400 Probability of success: 27.7089, Compute time: 9.09'"
      ]
     },
     "metadata": {},
     "output_type": "display_data"
    },
    {
     "data": {
      "text/plain": [
       "'Pull time: 400 seconds, num_arrangements: 4372281 Probability of success: 27.6779, Compute time: 9.18'"
      ]
     },
     "metadata": {},
     "output_type": "display_data"
    },
    {
     "data": {
      "text/plain": [
       "'Pull time: 410 seconds, num_arrangements: 4410000 Probability of success: 27.6467, Compute time: 9.27'"
      ]
     },
     "metadata": {},
     "output_type": "display_data"
    },
    {
     "data": {
      "text/plain": [
       "'Pull time: 420 seconds, num_arrangements: 4439449 Probability of success: 27.6153, Compute time: 9.42'"
      ]
     },
     "metadata": {},
     "output_type": "display_data"
    },
    {
     "data": {
      "text/plain": [
       "'Pull time: 430 seconds, num_arrangements: 4460544 Probability of success: 27.5837, Compute time: 9.41'"
      ]
     },
     "metadata": {},
     "output_type": "display_data"
    },
    {
     "data": {
      "text/plain": [
       "'Pull time: 440 seconds, num_arrangements: 4473225 Probability of success: 27.5518, Compute time: 9.51'"
      ]
     },
     "metadata": {},
     "output_type": "display_data"
    },
    {
     "data": {
      "text/plain": [
       "'Pull time: 450 seconds, num_arrangements: 4477456 Probability of success: 27.5198, Compute time: 9.43'"
      ]
     },
     "metadata": {},
     "output_type": "display_data"
    },
    {
     "data": {
      "text/plain": [
       "'Pull time: 460 seconds, num_arrangements: 4473225 Probability of success: 27.4875, Compute time: 9.44'"
      ]
     },
     "metadata": {},
     "output_type": "display_data"
    },
    {
     "data": {
      "text/plain": [
       "'Pull time: 470 seconds, num_arrangements: 4460544 Probability of success: 27.455, Compute time: 9.43'"
      ]
     },
     "metadata": {},
     "output_type": "display_data"
    },
    {
     "data": {
      "text/plain": [
       "'Pull time: 480 seconds, num_arrangements: 4439449 Probability of success: 27.4222, Compute time: 9.39'"
      ]
     },
     "metadata": {},
     "output_type": "display_data"
    },
    {
     "data": {
      "text/plain": [
       "'Pull time: 490 seconds, num_arrangements: 4410000 Probability of success: 27.3892, Compute time: 9.35'"
      ]
     },
     "metadata": {},
     "output_type": "display_data"
    },
    {
     "data": {
      "text/plain": [
       "'Pull time: 500 seconds, num_arrangements: 4372281 Probability of success: 27.356, Compute time: 9.43'"
      ]
     },
     "metadata": {},
     "output_type": "display_data"
    },
    {
     "data": {
      "text/plain": [
       "'Pull time: 510 seconds, num_arrangements: 4326400 Probability of success: 27.3226, Compute time: 9.24'"
      ]
     },
     "metadata": {},
     "output_type": "display_data"
    },
    {
     "data": {
      "text/plain": [
       "'Pull time: 520 seconds, num_arrangements: 4272489 Probability of success: 27.2889, Compute time: 9.1'"
      ]
     },
     "metadata": {},
     "output_type": "display_data"
    },
    {
     "data": {
      "text/plain": [
       "'Pull time: 530 seconds, num_arrangements: 4210704 Probability of success: 27.255, Compute time: 9.14'"
      ]
     },
     "metadata": {},
     "output_type": "display_data"
    },
    {
     "data": {
      "text/plain": [
       "'Pull time: 540 seconds, num_arrangements: 4141225 Probability of success: 27.2209, Compute time: 9.09'"
      ]
     },
     "metadata": {},
     "output_type": "display_data"
    },
    {
     "data": {
      "text/plain": [
       "'Pull time: 550 seconds, num_arrangements: 4064256 Probability of success: 27.1865, Compute time: 8.93'"
      ]
     },
     "metadata": {},
     "output_type": "display_data"
    },
    {
     "data": {
      "text/plain": [
       "'Pull time: 560 seconds, num_arrangements: 3980025 Probability of success: 27.1519, Compute time: 9.03'"
      ]
     },
     "metadata": {},
     "output_type": "display_data"
    },
    {
     "data": {
      "text/plain": [
       "'Pull time: 570 seconds, num_arrangements: 3888784 Probability of success: 27.1171, Compute time: 8.28'"
      ]
     },
     "metadata": {},
     "output_type": "display_data"
    },
    {
     "data": {
      "text/plain": [
       "'Pull time: 580 seconds, num_arrangements: 3790809 Probability of success: 27.082, Compute time: 8.24'"
      ]
     },
     "metadata": {},
     "output_type": "display_data"
    },
    {
     "data": {
      "text/plain": [
       "'Pull time: 590 seconds, num_arrangements: 3686400 Probability of success: 27.0466, Compute time: 8.18'"
      ]
     },
     "metadata": {},
     "output_type": "display_data"
    },
    {
     "data": {
      "text/plain": [
       "'Pull time: 600 seconds, num_arrangements: 3575881 Probability of success: 27.011, Compute time: 7.77'"
      ]
     },
     "metadata": {},
     "output_type": "display_data"
    },
    {
     "data": {
      "text/plain": [
       "'Pull time: 610 seconds, num_arrangements: 3459600 Probability of success: 26.9752, Compute time: 7.5'"
      ]
     },
     "metadata": {},
     "output_type": "display_data"
    },
    {
     "data": {
      "text/plain": [
       "'Pull time: 620 seconds, num_arrangements: 3337929 Probability of success: 26.9391, Compute time: 7.46'"
      ]
     },
     "metadata": {},
     "output_type": "display_data"
    },
    {
     "data": {
      "text/plain": [
       "'Pull time: 630 seconds, num_arrangements: 3211264 Probability of success: 26.9027, Compute time: 7.15'"
      ]
     },
     "metadata": {},
     "output_type": "display_data"
    },
    {
     "data": {
      "text/plain": [
       "'Pull time: 640 seconds, num_arrangements: 3080025 Probability of success: 26.8661, Compute time: 6.98'"
      ]
     },
     "metadata": {},
     "output_type": "display_data"
    },
    {
     "data": {
      "text/plain": [
       "'Pull time: 650 seconds, num_arrangements: 2944656 Probability of success: 26.8293, Compute time: 6.49'"
      ]
     },
     "metadata": {},
     "output_type": "display_data"
    },
    {
     "data": {
      "text/plain": [
       "'Pull time: 660 seconds, num_arrangements: 2805625 Probability of success: 26.7922, Compute time: 6.12'"
      ]
     },
     "metadata": {},
     "output_type": "display_data"
    },
    {
     "data": {
      "text/plain": [
       "'Pull time: 670 seconds, num_arrangements: 2663424 Probability of success: 26.7548, Compute time: 5.74'"
      ]
     },
     "metadata": {},
     "output_type": "display_data"
    },
    {
     "data": {
      "text/plain": [
       "'Pull time: 680 seconds, num_arrangements: 2518569 Probability of success: 26.7171, Compute time: 5.42'"
      ]
     },
     "metadata": {},
     "output_type": "display_data"
    },
    {
     "data": {
      "text/plain": [
       "'Pull time: 690 seconds, num_arrangements: 2371600 Probability of success: 26.6792, Compute time: 5.14'"
      ]
     },
     "metadata": {},
     "output_type": "display_data"
    },
    {
     "data": {
      "text/plain": [
       "'Pull time: 700 seconds, num_arrangements: 2223081 Probability of success: 26.6411, Compute time: 4.81'"
      ]
     },
     "metadata": {},
     "output_type": "display_data"
    },
    {
     "data": {
      "text/plain": [
       "'Pull time: 710 seconds, num_arrangements: 2073600 Probability of success: 26.6026, Compute time: 4.48'"
      ]
     },
     "metadata": {},
     "output_type": "display_data"
    },
    {
     "data": {
      "text/plain": [
       "'Pull time: 720 seconds, num_arrangements: 1923769 Probability of success: 26.5639, Compute time: 4.34'"
      ]
     },
     "metadata": {},
     "output_type": "display_data"
    },
    {
     "data": {
      "text/plain": [
       "'Pull time: 730 seconds, num_arrangements: 1774224 Probability of success: 26.5249, Compute time: 3.86'"
      ]
     },
     "metadata": {},
     "output_type": "display_data"
    },
    {
     "data": {
      "text/plain": [
       "'Pull time: 740 seconds, num_arrangements: 1625625 Probability of success: 26.4857, Compute time: 3.53'"
      ]
     },
     "metadata": {},
     "output_type": "display_data"
    },
    {
     "data": {
      "text/plain": [
       "'Pull time: 750 seconds, num_arrangements: 1478656 Probability of success: 26.4462, Compute time: 3.31'"
      ]
     },
     "metadata": {},
     "output_type": "display_data"
    },
    {
     "data": {
      "text/plain": [
       "'Pull time: 760 seconds, num_arrangements: 1334025 Probability of success: 26.4064, Compute time: 2.95'"
      ]
     },
     "metadata": {},
     "output_type": "display_data"
    },
    {
     "data": {
      "text/plain": [
       "'Pull time: 770 seconds, num_arrangements: 1192464 Probability of success: 26.3663, Compute time: 2.65'"
      ]
     },
     "metadata": {},
     "output_type": "display_data"
    },
    {
     "data": {
      "text/plain": [
       "'Pull time: 780 seconds, num_arrangements: 1054729 Probability of success: 26.3259, Compute time: 2.47'"
      ]
     },
     "metadata": {},
     "output_type": "display_data"
    },
    {
     "data": {
      "text/plain": [
       "'Pull time: 790 seconds, num_arrangements: 921600 Probability of success: 26.2853, Compute time: 2.1'"
      ]
     },
     "metadata": {},
     "output_type": "display_data"
    },
    {
     "data": {
      "text/plain": [
       "'Pull time: 800 seconds, num_arrangements: 793881 Probability of success: 26.2443, Compute time: 1.83'"
      ]
     },
     "metadata": {},
     "output_type": "display_data"
    },
    {
     "data": {
      "text/plain": [
       "'Pull time: 810 seconds, num_arrangements: 672400 Probability of success: 26.2031, Compute time: 1.55'"
      ]
     },
     "metadata": {},
     "output_type": "display_data"
    },
    {
     "data": {
      "text/plain": [
       "'Pull time: 820 seconds, num_arrangements: 558009 Probability of success: 26.1616, Compute time: 1.35'"
      ]
     },
     "metadata": {},
     "output_type": "display_data"
    },
    {
     "data": {
      "text/plain": [
       "'Pull time: 830 seconds, num_arrangements: 451584 Probability of success: 26.1198, Compute time: 1.05'"
      ]
     },
     "metadata": {},
     "output_type": "display_data"
    },
    {
     "data": {
      "text/plain": [
       "'Pull time: 840 seconds, num_arrangements: 354025 Probability of success: 26.0777, Compute time: 0.84'"
      ]
     },
     "metadata": {},
     "output_type": "display_data"
    },
    {
     "data": {
      "text/plain": [
       "'Pull time: 850 seconds, num_arrangements: 266256 Probability of success: 26.0352, Compute time: 0.65'"
      ]
     },
     "metadata": {},
     "output_type": "display_data"
    },
    {
     "data": {
      "text/plain": [
       "'Pull time: 860 seconds, num_arrangements: 189225 Probability of success: 25.9925, Compute time: 0.48'"
      ]
     },
     "metadata": {},
     "output_type": "display_data"
    },
    {
     "data": {
      "text/plain": [
       "'Pull time: 870 seconds, num_arrangements: 123904 Probability of success: 25.9495, Compute time: 0.34'"
      ]
     },
     "metadata": {},
     "output_type": "display_data"
    },
    {
     "data": {
      "text/plain": [
       "'Pull time: 880 seconds, num_arrangements: 71289 Probability of success: 25.9062, Compute time: 0.23'"
      ]
     },
     "metadata": {},
     "output_type": "display_data"
    },
    {
     "data": {
      "text/plain": [
       "'Pull time: 890 seconds, num_arrangements: 32400 Probability of success: 25.8626, Compute time: 0.12'"
      ]
     },
     "metadata": {},
     "output_type": "display_data"
    },
    {
     "data": {
      "text/plain": [
       "'Pull time: 900 seconds, num_arrangements: 8281 Probability of success: 25.8187, Compute time: 0.05'"
      ]
     },
     "metadata": {},
     "output_type": "display_data"
    },
    {
     "data": {
      "text/html": [
       "<div>\n",
       "<style scoped>\n",
       "    .dataframe tbody tr th:only-of-type {\n",
       "        vertical-align: middle;\n",
       "    }\n",
       "\n",
       "    .dataframe tbody tr th {\n",
       "        vertical-align: top;\n",
       "    }\n",
       "\n",
       "    .dataframe thead th {\n",
       "        text-align: right;\n",
       "    }\n",
       "</style>\n",
       "<table border=\"1\" class=\"dataframe\">\n",
       "  <thead>\n",
       "    <tr style=\"text-align: right;\">\n",
       "      <th></th>\n",
       "      <th>pull_time</th>\n",
       "      <th>prob_success</th>\n",
       "      <th>compute_time</th>\n",
       "    </tr>\n",
       "  </thead>\n",
       "  <tbody>\n",
       "    <tr>\n",
       "      <th>0</th>\n",
       "      <td>0</td>\n",
       "      <td>28.7646</td>\n",
       "      <td>0.02</td>\n",
       "    </tr>\n",
       "    <tr>\n",
       "      <th>1</th>\n",
       "      <td>10</td>\n",
       "      <td>28.7409</td>\n",
       "      <td>0.07</td>\n",
       "    </tr>\n",
       "    <tr>\n",
       "      <th>2</th>\n",
       "      <td>20</td>\n",
       "      <td>28.7170</td>\n",
       "      <td>0.15</td>\n",
       "    </tr>\n",
       "    <tr>\n",
       "      <th>3</th>\n",
       "      <td>30</td>\n",
       "      <td>28.6930</td>\n",
       "      <td>0.27</td>\n",
       "    </tr>\n",
       "    <tr>\n",
       "      <th>4</th>\n",
       "      <td>40</td>\n",
       "      <td>28.6689</td>\n",
       "      <td>0.40</td>\n",
       "    </tr>\n",
       "    <tr>\n",
       "      <th>...</th>\n",
       "      <td>...</td>\n",
       "      <td>...</td>\n",
       "      <td>...</td>\n",
       "    </tr>\n",
       "    <tr>\n",
       "      <th>86</th>\n",
       "      <td>860</td>\n",
       "      <td>25.9925</td>\n",
       "      <td>0.48</td>\n",
       "    </tr>\n",
       "    <tr>\n",
       "      <th>87</th>\n",
       "      <td>870</td>\n",
       "      <td>25.9495</td>\n",
       "      <td>0.34</td>\n",
       "    </tr>\n",
       "    <tr>\n",
       "      <th>88</th>\n",
       "      <td>880</td>\n",
       "      <td>25.9062</td>\n",
       "      <td>0.23</td>\n",
       "    </tr>\n",
       "    <tr>\n",
       "      <th>89</th>\n",
       "      <td>890</td>\n",
       "      <td>25.8626</td>\n",
       "      <td>0.12</td>\n",
       "    </tr>\n",
       "    <tr>\n",
       "      <th>90</th>\n",
       "      <td>900</td>\n",
       "      <td>25.8187</td>\n",
       "      <td>0.05</td>\n",
       "    </tr>\n",
       "  </tbody>\n",
       "</table>\n",
       "<p>91 rows × 3 columns</p>\n",
       "</div>"
      ],
      "text/plain": [
       "    pull_time  prob_success  compute_time\n",
       "0           0       28.7646          0.02\n",
       "1          10       28.7409          0.07\n",
       "2          20       28.7170          0.15\n",
       "3          30       28.6930          0.27\n",
       "4          40       28.6689          0.40\n",
       "..        ...           ...           ...\n",
       "86        860       25.9925          0.48\n",
       "87        870       25.9495          0.34\n",
       "88        880       25.9062          0.23\n",
       "89        890       25.8626          0.12\n",
       "90        900       25.8187          0.05\n",
       "\n",
       "[91 rows x 3 columns]"
      ]
     },
     "metadata": {},
     "output_type": "display_data"
    }
   ],
   "source": [
    "decisions_df = pd.DataFrame(columns = [\n",
    "        'pull_time',\n",
    "        'prob_success',\n",
    "        'compute_time'])\n",
    "\n",
    "results = []\n",
    "\n",
    "T = int(minutes_left * 6)  # number of 10 second periods left in the game\n",
    "\n",
    "#  Try out each possible time to pull the goalie\n",
    "for s in range(0, T + 1):\n",
    "\n",
    "    # Timing for performance metrics\n",
    "    start_time = time.time()\n",
    "\n",
    "    prob_success = 0\n",
    "\n",
    "    # Tracking num_arrangements for complexity considerations\n",
    "    num_arrangements = 0\n",
    "\n",
    "    # Number of goals scored by other team before pulling the goalie\n",
    "    for g_b1 in range(0, s+1):\n",
    "        prob_gb1 = choose(s, g_b1) * (p_b1 ** g_b1) * ((1 - p_b1) ** (s - g_b1))\n",
    "\n",
    "        # Number of goals scored by our team before pulling the goalie\n",
    "        for g_a1 in range(0, s+1):\n",
    "            prob_ga1 = choose(s, g_a1) * (p_a1 ** g_a1) * ((1 - p_a1) ** (s - g_a1))\n",
    "\n",
    "            # Number of goals scored by other team after pulling the goalie\n",
    "            for g_b2 in range(0, T - s+1):\n",
    "                prob_gb2 = choose(T - s, g_b2) * (p_b2 ** g_b2) * ((1 - p_b2) ** (T - s - g_b2))\n",
    "\n",
    "                # Number of goals scored by our team after pulling the goalie\n",
    "                for g_a2 in range(0, T - s+1):\n",
    "                    num_arrangements += 1\n",
    "                    prob_ga2 = choose(T - s, g_a2) * (p_a2 ** g_a2) * ((1 - p_a2) ** (T - s - g_a2))\n",
    "\n",
    "                    # Probability of this event\n",
    "                    prob = prob_gb1 * prob_ga1 * prob_gb2 * prob_ga2\n",
    "\n",
    "                    # Update the score\n",
    "                    a = a_0 + g_a1 + g_a2\n",
    "                    b = b_0 + g_b1 + g_b2\n",
    "\n",
    "                    # Success if we win or tie\n",
    "                    success = (a >= b)\n",
    "\n",
    "                    prob_success = prob_success + prob * success\n",
    "                    # display(f\"    prob_ga1={prob_ga1}, prob_gb1={prob_gb1}, prob_ga2={prob_ga2}, prob_gb2={prob_gb2}\")\n",
    "                    # display(\n",
    "                    #     f\"  ga1={g_a1}, gb1={g_b1}, ga2={g_a2}, gb2={g_b2}, success: {success}, probability: {prob}\"\n",
    "                    # )\n",
    "\n",
    "    prob_success = round(prob_success * 100, 4)\n",
    "\n",
    "    end_time = time.time()\n",
    "    elapsed_time = end_time - start_time\n",
    "    elapsed_time = round(elapsed_time, 2)\n",
    "\n",
    "    display(f\"Pull time: {s * 10} seconds, num_arrangements: {num_arrangements} Probability of success: {prob_success}, Compute time: {elapsed_time}\")\n",
    "\n",
    "    results.append({\n",
    "        \"pull_time\": s*10,\n",
    "        \"prob_success\": prob_success,\n",
    "        \"compute_time\": elapsed_time\n",
    "    })\n",
    "\n",
    "decisions_df = pd.DataFrame(results)\n",
    "display(decisions_df)\n",
    "\n",
    "decisions_df.to_pickle(\"results/15minleft_1to2.pkl\")"
   ]
  },
  {
   "cell_type": "markdown",
   "metadata": {},
   "source": [
    "## Select the optimal choice"
   ]
  },
  {
   "cell_type": "code",
   "execution_count": 161,
   "metadata": {},
   "outputs": [
    {
     "name": "stdout",
     "output_type": "stream",
     "text": [
      "Optimal time to pull the goalie: 30 seconds, resulting in a probability of 5.688 of winning or tying the game.\n"
     ]
    }
   ],
   "source": [
    "optimal_index = decisions_df[\"prob_success\"].idxmax()\n",
    "optimal_time = decisions_df.loc[optimal_index, \"pull_time\"]\n",
    "optimal_prob = decisions_df.loc[optimal_index, \"prob_success\"]\n",
    "\n",
    "print(f\"Optimal time to pull the goalie: {optimal_time} seconds, resulting in a probability of {optimal_prob} of winning or tying the game.\")"
   ]
  },
  {
   "cell_type": "markdown",
   "metadata": {},
   "source": [
    "## Function to read partial output from slurm out txt file"
   ]
  },
  {
   "cell_type": "code",
   "execution_count": null,
   "metadata": {},
   "outputs": [],
   "source": [
    "# Parse partial results from slurm out file\n",
    "results = []\n",
    "pattern = r\"Pull time: (\\d+), num_arrangements: (\\d+) Probability of success: ([\\d.]+), Compute time: ([\\d.]+)\"\n",
    "\n",
    "# Read in lines from temp.txt\n",
    "with open(\"results/temp.txt\") as f:\n",
    "    lines = f.readlines()\n",
    "    for line in lines:\n",
    "        line = line.strip()\n",
    "\n",
    "        if line.startswith(\"Pull time:\"):\n",
    "            match = re.search(pattern, line)\n",
    "            pull_time = int(match.group(1))\n",
    "            num_arrangements = int(match.group(2))\n",
    "            prob_success = float(match.group(3))\n",
    "            compute_time = float(match.group(4))\n",
    "            results.append({\n",
    "                \"pull_time\": pull_time,\n",
    "                \"num_arrangements\": num_arrangements,\n",
    "                \"prob_success\": prob_success,\n",
    "                \"compute_time\": compute_time\n",
    "            })\n",
    "\n",
    "# Create a DataFrame from the results\n",
    "decisions_df = pd.DataFrame(results)\n",
    "display(decisions_df)\n",
    "decisions_df.to_pickle(\"results/temp.pkl\")"
   ]
  }
 ],
 "metadata": {
  "kernelspec": {
   "display_name": "general_purpose_venv",
   "language": "python",
   "name": "python3"
  },
  "language_info": {
   "codemirror_mode": {
    "name": "ipython",
    "version": 3
   },
   "file_extension": ".py",
   "mimetype": "text/x-python",
   "name": "python",
   "nbconvert_exporter": "python",
   "pygments_lexer": "ipython3",
   "version": "3.12.3"
  }
 },
 "nbformat": 4,
 "nbformat_minor": 2
}
