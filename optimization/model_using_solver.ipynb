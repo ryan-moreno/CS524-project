{
 "cells": [
  {
   "cell_type": "markdown",
   "metadata": {},
   "source": [
    "## Modeling with Julia with Ipopt\n",
    "\n",
    "Anything with an _a_ reference relates to 'our' team. \n",
    "Anything with a _b_ reference relates to 'their' team."
   ]
  },
  {
   "cell_type": "code",
   "execution_count": 1,
   "metadata": {},
   "outputs": [
    {
     "name": "stdout",
     "output_type": "stream",
     "text": [
      "/Users/lauraroettges/.julia/conda/3/x86_64/bin/python\n"
     ]
    }
   ],
   "source": [
    "using PyCall\n",
    "println(PyCall.python)"
   ]
  },
  {
   "cell_type": "code",
   "execution_count": 2,
   "metadata": {},
   "outputs": [
    {
     "data": {
      "text/plain": [
       "PyObject <module 'pandas' from '/Users/lauraroettges/.julia/conda/3/x86_64/lib/python3.10/site-packages/pandas/__init__.py'>"
      ]
     },
     "execution_count": 2,
     "metadata": {},
     "output_type": "execute_result"
    }
   ],
   "source": [
    "using PyCall\n",
    "pyimport_conda(\"pandas\", \"pandas\")"
   ]
  },
  {
   "cell_type": "code",
   "execution_count": 3,
   "metadata": {},
   "outputs": [
    {
     "data": {
      "text/plain": [
       "PyObject <module 'pandas' from '/Users/lauraroettges/.julia/conda/3/x86_64/lib/python3.10/site-packages/pandas/__init__.py'>"
      ]
     },
     "execution_count": 3,
     "metadata": {},
     "output_type": "execute_result"
    }
   ],
   "source": [
    "using PyCall\n",
    "pd = pyimport(\"pandas\")"
   ]
  },
  {
   "cell_type": "code",
   "execution_count": 4,
   "metadata": {},
   "outputs": [
    {
     "name": "stdout",
     "output_type": "stream",
     "text": [
      "PyObject            n  k n_choose_k\n",
      "new_index                 \n",
      "0          0  0          1\n",
      "1201       1  0          1\n",
      "1202       1  1          1\n",
      "2402       2  0          1\n",
      "2403       2  1          2\n"
     ]
    },
    {
     "data": {
      "text/plain": [
       "3599"
      ]
     },
     "execution_count": 4,
     "metadata": {},
     "output_type": "execute_result"
    }
   ],
   "source": [
    "using DataFrames, PyCall\n",
    "\n",
    "#Define Data\n",
    "p_a1 = 0.000518  # (precomputed) probability of score when 5v5\n",
    "p_b1 = 0.000518  # (precomputed) probability of score when 5v5\n",
    "\n",
    "p_a2 = 0.00310   # (precomputed) probability that we score during a given second in 6v5 play\n",
    "p_b2 = 0.00851   # (precomputed) probability that the opponent scores during a given second in 6v5 play\n",
    "\n",
    "T = 1200 # number of seconds remaining in the game at start of period 3 (20 minutes)\n",
    "\n",
    "comb_df = pd.read_pickle(\"../precompute_combinations/precomputed_combinations_df.pkl\")\n",
    "println(comb_df.head())\n",
    "\n",
    "function choose(n, k)\n",
    "    #found out through trial and error n must be less than 1200 can not = 1200\n",
    "    index = n * 1201 + k\n",
    "    #because of julia need to add 1 to index\n",
    "    index += 1\n",
    "    println(index)\n",
    "    return comb_df.loc[index][\"n_choose_k\"]\n",
    "end\n",
    "\n",
    "\n",
    "#A_0 = [] #TODO: stochastic set -  Our team’s current score (before decision)\n",
    "#B_0 = [] #TODO: stochastic set -  Their team’s current score (before decision)\n",
    "\n",
    "scenarios = [:tied, :behind_one, :behind_two]\n",
    "strategies = [:pull_goalie, :play_normal]\n",
    "\n",
    "a_0 = Dict(zip(scenarios, [0, 0, 0]))\n",
    "b_0 = Dict(zip(scenarios, [0, 1, 2]))\n",
    "\n",
    "#going to start by assuming we are in the behind 1 scenario\n",
    "A_0 = a_0[:behind_one]\n",
    "B_0 = b_0[:behind_one]\n",
    "\n",
    "M = 3599 #be the maximum possible value of d (if their team scored every second of the game and our team never scored)\n"
   ]
  },
  {
   "cell_type": "code",
   "execution_count": 53,
   "metadata": {},
   "outputs": [
    {
     "name": "stdout",
     "output_type": "stream",
     "text": [
      "PyObject Index([      0,    1201,    1202,    2402,    2403,    2404,    3603,    3604,\n",
      "          3605,    3606,\n",
      "       ...\n",
      "       1442391, 1442392, 1442393, 1442394, 1442395, 1442396, 1442397, 1442398,\n",
      "       1442399, 1442400],\n",
      "      dtype='object', name='new_index', length=721801)\n",
      "PyObject[PyObject 0, PyObject 1, PyObject 2, PyObject 3, PyObject 4, PyObject 5, PyObject 6, PyObject 7, PyObject 8, PyObject 9, PyObject 10, PyObject 11, PyObject 12, PyObject 13, PyObject 14, PyObject 15, PyObject 16, PyObject 17, PyObject 18, PyObject 19, PyObject 20, PyObject 21, PyObject 22, PyObject 23, PyObject 24, PyObject 25, PyObject 26, PyObject 27, PyObject 28, PyObject 29, PyObject 30, PyObject 31, PyObject 32, PyObject 33, PyObject 34, PyObject 35, PyObject 36, PyObject 37, PyObject 38, PyObject 39, PyObject 40, PyObject 41, PyObject 42, PyObject 43, PyObject 44, PyObject 45, PyObject 46, PyObject 47, PyObject 48, PyObject 49, PyObject 50, PyObject 51, PyObject 52, PyObject 53, PyObject 54, PyObject 55, PyObject 56, PyObject 57, PyObject 58, PyObject 59, PyObject 60, PyObject 61, PyObject 62, PyObject 63, PyObject 64, PyObject 65, PyObject 66, PyObject 67, PyObject 68, PyObject 69, PyObject 70, PyObject 71, PyObject 72, PyObject 73, PyObject 74, PyObject 75, PyObject 76, PyObject 77, PyObject 78, PyObject 79, PyObject 80, PyObject 81, PyObject 82, PyObject 83, PyObject 84, PyObject 85, PyObject 86, PyObject 87, PyObject 88, PyObject 89, PyObject 90, PyObject 91, PyObject 92, PyObject 93, PyObject 94, PyObject 95, PyObject 96, PyObject 97, PyObject 98, PyObject 99, PyObject 100, PyObject 101, PyObject 102, PyObject 103, PyObject 104, PyObject 105, PyObject 106, PyObject 107, PyObject 108, PyObject 109, PyObject 110, PyObject 111, PyObject 112, PyObject 113, PyObject 114, PyObject 115, PyObject 116, PyObject 117, PyObject 118, PyObject 119, PyObject 120, PyObject 121, PyObject 122, PyObject 123, PyObject 124, PyObject 125, PyObject 126, PyObject 127, PyObject 128, PyObject 129, PyObject 130, PyObject 131, PyObject 132, PyObject 133, PyObject 134, PyObject 135, PyObject 136, PyObject 137, PyObject 138, PyObject 139, PyObject 140, PyObject 141, PyObject 142, PyObject 143, PyObject 144, PyObject 145, PyObject 146, PyObject 147, PyObject 148, PyObject 149, PyObject 150, PyObject 151, PyObject 152, PyObject 153, PyObject 154, PyObject 155, PyObject 156, PyObject 157, PyObject 158, PyObject 159, PyObject 160, PyObject 161, PyObject 162, PyObject 163, PyObject 164, PyObject 165, PyObject 166, PyObject 167, PyObject 168, PyObject 169, PyObject 170, PyObject 171, PyObject 172, PyObject 173, PyObject 174, PyObject 175, PyObject 176, PyObject 177, PyObject 178, PyObject 179, PyObject 180, PyObject 181, PyObject 182, PyObject 183, PyObject 184, PyObject 185, PyObject 186, PyObject 187, PyObject 188, PyObject 189, PyObject 190, PyObject 191, PyObject 192, PyObject 193, PyObject 194, PyObject 195, PyObject 196, PyObject 197, PyObject 198, PyObject 199, PyObject 200, PyObject 201, PyObject 202, PyObject 203, PyObject 204, PyObject 205, PyObject 206, PyObject 207, PyObject 208, PyObject 209, PyObject 210, PyObject 211, PyObject 212, PyObject 213, PyObject 214, PyObject 215, PyObject 216, PyObject 217, PyObject 218, PyObject 219, PyObject 220, PyObject 221, PyObject 222, PyObject 223, PyObject 224, PyObject 225, PyObject 226, PyObject 227, PyObject 228, PyObject 229, PyObject 230, PyObject 231, PyObject 232, PyObject 233, PyObject 234, PyObject 235, PyObject 236, PyObject 237, PyObject 238, PyObject 239, PyObject 240, PyObject 241, PyObject 242, PyObject 243, PyObject 244, PyObject 245, PyObject 246, PyObject 247, PyObject 248, PyObject 249, PyObject 250, PyObject 251, PyObject 252, PyObject 253, PyObject 254, PyObject 255, PyObject 256, PyObject 257, PyObject 258, PyObject 259, PyObject 260, PyObject 261, PyObject 262, PyObject 263, PyObject 264, PyObject 265, PyObject 266, PyObject 267, PyObject 268, PyObject 269, PyObject 270, PyObject 271, PyObject 272, PyObject 273, PyObject 274, PyObject 275, PyObject 276, PyObject 277, PyObject 278, PyObject 279, PyObject 280, PyObject 281, PyObject 282, PyObject 283, PyObject 284, PyObject 285, PyObject 286, PyObject 287, PyObject 288, PyObject 289, PyObject 290, PyObject 291, PyObject 292, PyObject 293, PyObject 294, PyObject 295, PyObject 296, PyObject 297, PyObject 298, PyObject 299, PyObject 300, PyObject 301, PyObject 302, PyObject 303, PyObject 304, PyObject 305, PyObject 306, PyObject 307, PyObject 308, PyObject 309, PyObject 310, PyObject 311, PyObject 312, PyObject 313, PyObject 314, PyObject 315, PyObject 316, PyObject 317, PyObject 318, PyObject 319, PyObject 320, PyObject 321, PyObject 322, PyObject 323, PyObject 324, PyObject 325, PyObject 326, PyObject 327, PyObject 328, PyObject 329, PyObject 330, PyObject 331, PyObject 332, PyObject 333, PyObject 334, PyObject 335, PyObject 336, PyObject 337, PyObject 338, PyObject 339, PyObject 340, PyObject 341, PyObject 342, PyObject 343, PyObject 344, PyObject 345, PyObject 346, PyObject 347, PyObject 348, PyObject 349, PyObject 350, PyObject 351, PyObject 352, PyObject 353, PyObject 354, PyObject 355, PyObject 356, PyObject 357, PyObject 358, PyObject 359, PyObject 360, PyObject 361, PyObject 362, PyObject 363, PyObject 364, PyObject 365, PyObject 366, PyObject 367, PyObject 368, PyObject 369, PyObject 370, PyObject 371, PyObject 372, PyObject 373, PyObject 374, PyObject 375, PyObject 376, PyObject 377, PyObject 378, PyObject 379, PyObject 380, PyObject 381, PyObject 382, PyObject 383, PyObject 384, PyObject 385, PyObject 386, PyObject 387, PyObject 388, PyObject 389, PyObject 390, PyObject 391, PyObject 392, PyObject 393, PyObject 394, PyObject 395, PyObject 396, PyObject 397, PyObject 398, PyObject 399, PyObject 400, PyObject 401, PyObject 402, PyObject 403, PyObject 404, PyObject 405, PyObject 406, PyObject 407, PyObject 408, PyObject 409, PyObject 410, PyObject 411, PyObject 412, PyObject 413, PyObject 414, PyObject 415, PyObject 416, PyObject 417, PyObject 418, PyObject 419, PyObject 420, PyObject 421, PyObject 422, PyObject 423, PyObject 424, PyObject 425, PyObject 426, PyObject 427, PyObject 428, PyObject 429, PyObject 430, PyObject 431, PyObject 432, PyObject 433, PyObject 434, PyObject 435, PyObject 436, PyObject 437, PyObject 438, PyObject 439, PyObject 440, PyObject 441, PyObject 442, PyObject 443, PyObject 444, PyObject 445, PyObject 446, PyObject 447, PyObject 448, PyObject 449, PyObject 450, PyObject 451, PyObject 452, PyObject 453, PyObject 454, PyObject 455, PyObject 456, PyObject 457, PyObject 458, PyObject 459, PyObject 460, PyObject 461, PyObject 462, PyObject 463, PyObject 464, PyObject 465, PyObject 466, PyObject 467, PyObject 468, PyObject 469, PyObject 470, PyObject 471, PyObject 472, PyObject 473, PyObject 474, PyObject 475, PyObject 476, PyObject 477, PyObject 478, PyObject 479, PyObject 480, PyObject 481, PyObject 482, PyObject 483, PyObject 484, PyObject 485, PyObject 486, PyObject 487, PyObject 488, PyObject 489, PyObject 490, PyObject 491, PyObject 492, PyObject 493, PyObject 494, PyObject 495, PyObject 496, PyObject 497, PyObject 498, PyObject 499, PyObject 500, PyObject 501, PyObject 502, PyObject 503, PyObject 504, PyObject 505, PyObject 506, PyObject 507, PyObject 508, PyObject 509, PyObject 510, PyObject 511, PyObject 512, PyObject 513, PyObject 514, PyObject 515, PyObject 516, PyObject 517, PyObject 518, PyObject 519, PyObject 520, PyObject 521, PyObject 522, PyObject 523, PyObject 524, PyObject 525, PyObject 526, PyObject 527, PyObject 528, PyObject 529, PyObject 530, PyObject 531, PyObject 532, PyObject 533, PyObject 534, PyObject 535, PyObject 536, PyObject 537, PyObject 538, PyObject 539, PyObject 540, PyObject 541, PyObject 542, PyObject 543, PyObject 544, PyObject 545, PyObject 546, PyObject 547, PyObject 548, PyObject 549, PyObject 550, PyObject 551, PyObject 552, PyObject 553, PyObject 554, PyObject 555, PyObject 556, PyObject 557, PyObject 558, PyObject 559, PyObject 560, PyObject 561, PyObject 562, PyObject 563, PyObject 564, PyObject 565, PyObject 566, PyObject 567, PyObject 568, PyObject 569, PyObject 570, PyObject 571, PyObject 572, PyObject 573, PyObject 574, PyObject 575, PyObject 576, PyObject 577, PyObject 578, PyObject 579, PyObject 580, PyObject 581, PyObject 582, PyObject 583, PyObject 584, PyObject 585, PyObject 586, PyObject 587, PyObject 588, PyObject 589, PyObject 590, PyObject 591, PyObject 592, PyObject 593, PyObject 594, PyObject 595, PyObject 596, PyObject 597, PyObject 598, PyObject 599, PyObject 600, PyObject 601, PyObject 602, PyObject 603, PyObject 604, PyObject 605, PyObject 606, PyObject 607, PyObject 608, PyObject 609, PyObject 610, PyObject 611, PyObject 612, PyObject 613, PyObject 614, PyObject 615, PyObject 616, PyObject 617, PyObject 618, PyObject 619, PyObject 620, PyObject 621, PyObject 622, PyObject 623, PyObject 624, PyObject 625, PyObject 626, PyObject 627, PyObject 628, PyObject 629, PyObject 630, PyObject 631, PyObject 632, PyObject 633, PyObject 634, PyObject 635, PyObject 636, PyObject 637, PyObject 638, PyObject 639, PyObject 640, PyObject 641, PyObject 642, PyObject 643, PyObject 644, PyObject 645, PyObject 646, PyObject 647, PyObject 648, PyObject 649, PyObject 650, PyObject 651, PyObject 652, PyObject 653, PyObject 654, PyObject 655, PyObject 656, PyObject 657, PyObject 658, PyObject 659, PyObject 660, PyObject 661, PyObject 662, PyObject 663, PyObject 664, PyObject 665, PyObject 666, PyObject 667, PyObject 668, PyObject 669, PyObject 670, PyObject 671, PyObject 672, PyObject 673, PyObject 674, PyObject 675, PyObject 676, PyObject 677, PyObject 678, PyObject 679, PyObject 680, PyObject 681, PyObject 682, PyObject 683, PyObject 684, PyObject 685, PyObject 686, PyObject 687, PyObject 688, PyObject 689, PyObject 690, PyObject 691, PyObject 692, PyObject 693, PyObject 694, PyObject 695, PyObject 696, PyObject 697, PyObject 698, PyObject 699, PyObject 700, PyObject 701, PyObject 702, PyObject 703, PyObject 704, PyObject 705, PyObject 706, PyObject 707, PyObject 708, PyObject 709, PyObject 710, PyObject 711, PyObject 712, PyObject 713, PyObject 714, PyObject 715, PyObject 716, PyObject 717, PyObject 718, PyObject 719, PyObject 720, PyObject 721, PyObject 722, PyObject 723, PyObject 724, PyObject 725, PyObject 726, PyObject 727, PyObject 728, PyObject 729, PyObject 730, PyObject 731, PyObject 732, PyObject 733, PyObject 734, PyObject 735, PyObject 736, PyObject 737, PyObject 738, PyObject 739, PyObject 740, PyObject 741, PyObject 742, PyObject 743, PyObject 744, PyObject 745, PyObject 746, PyObject 747, PyObject 748, PyObject 749, PyObject 750, PyObject 751, PyObject 752, PyObject 753, PyObject 754, PyObject 755, PyObject 756, PyObject 757, PyObject 758, PyObject 759, PyObject 760, PyObject 761, PyObject 762, PyObject 763, PyObject 764, PyObject 765, PyObject 766, PyObject 767, PyObject 768, PyObject 769, PyObject 770, PyObject 771, PyObject 772, PyObject 773, PyObject 774, PyObject 775, PyObject 776, PyObject 777, PyObject 778, PyObject 779, PyObject 780, PyObject 781, PyObject 782, PyObject 783, PyObject 784, PyObject 785, PyObject 786, PyObject 787, PyObject 788, PyObject 789, PyObject 790, PyObject 791, PyObject 792, PyObject 793, PyObject 794, PyObject 795, PyObject 796, PyObject 797, PyObject 798, PyObject 799, PyObject 800, PyObject 801, PyObject 802, PyObject 803, PyObject 804, PyObject 805, PyObject 806, PyObject 807, PyObject 808, PyObject 809, PyObject 810, PyObject 811, PyObject 812, PyObject 813, PyObject 814, PyObject 815, PyObject 816, PyObject 817, PyObject 818, PyObject 819, PyObject 820, PyObject 821, PyObject 822, PyObject 823, PyObject 824, PyObject 825, PyObject 826, PyObject 827, PyObject 828, PyObject 829, PyObject 830, PyObject 831, PyObject 832, PyObject 833, PyObject 834, PyObject 835, PyObject 836, PyObject 837, PyObject 838, PyObject 839, PyObject 840, PyObject 841, PyObject 842, PyObject 843, PyObject 844, PyObject 845, PyObject 846, PyObject 847, PyObject 848, PyObject 849, PyObject 850, PyObject 851, PyObject 852, PyObject 853, PyObject 854, PyObject 855, PyObject 856, PyObject 857, PyObject 858, PyObject 859, PyObject 860, PyObject 861, PyObject 862, PyObject 863, PyObject 864, PyObject 865, PyObject 866, PyObject 867, PyObject 868, PyObject 869, PyObject 870, PyObject 871, PyObject 872, PyObject 873, PyObject 874, PyObject 875, PyObject 876, PyObject 877, PyObject 878, PyObject 879, PyObject 880, PyObject 881, PyObject 882, PyObject 883, PyObject 884, PyObject 885, PyObject 886, PyObject 887, PyObject 888, PyObject 889, PyObject 890, PyObject 891, PyObject 892, PyObject 893, PyObject 894, PyObject 895, PyObject 896, PyObject 897, PyObject 898, PyObject 899, PyObject 900, PyObject 901, PyObject 902, PyObject 903, PyObject 904, PyObject 905, PyObject 906, PyObject 907, PyObject 908, PyObject 909, PyObject 910, PyObject 911, PyObject 912, PyObject 913, PyObject 914, PyObject 915, PyObject 916, PyObject 917, PyObject 918, PyObject 919, PyObject 920, PyObject 921, PyObject 922, PyObject 923, PyObject 924, PyObject 925, PyObject 926, PyObject 927, PyObject 928, PyObject 929, PyObject 930, PyObject 931, PyObject 932, PyObject 933, PyObject 934, PyObject 935, PyObject 936, PyObject 937, PyObject 938, PyObject 939, PyObject 940, PyObject 941, PyObject 942, PyObject 943, PyObject 944, PyObject 945, PyObject 946, PyObject 947, PyObject 948, PyObject 949, PyObject 950, PyObject 951, PyObject 952, PyObject 953, PyObject 954, PyObject 955, PyObject 956, PyObject 957, PyObject 958, PyObject 959, PyObject 960, PyObject 961, PyObject 962, PyObject 963, PyObject 964, PyObject 965, PyObject 966, PyObject 967, PyObject 968, PyObject 969, PyObject 970, PyObject 971, PyObject 972, PyObject 973, PyObject 974, PyObject 975, PyObject 976, PyObject 977, PyObject 978, PyObject 979, PyObject 980, PyObject 981, PyObject 982, PyObject 983, PyObject 984, PyObject 985, PyObject 986, PyObject 987, PyObject 988, PyObject 989, PyObject 990, PyObject 991, PyObject 992, PyObject 993, PyObject 994, PyObject 995, PyObject 996, PyObject 997, PyObject 998, PyObject 999, PyObject 1000, PyObject 1001, PyObject 1002, PyObject 1003, PyObject 1004, PyObject 1005, PyObject 1006, PyObject 1007, PyObject 1008, PyObject 1009, PyObject 1010, PyObject 1011, PyObject 1012, PyObject 1013, PyObject 1014, PyObject 1015, PyObject 1016, PyObject 1017, PyObject 1018, PyObject 1019, PyObject 1020, PyObject 1021, PyObject 1022, PyObject 1023, PyObject 1024, PyObject 1025, PyObject 1026, PyObject 1027, PyObject 1028, PyObject 1029, PyObject 1030, PyObject 1031, PyObject 1032, PyObject 1033, PyObject 1034, PyObject 1035, PyObject 1036, PyObject 1037, PyObject 1038, PyObject 1039, PyObject 1040, PyObject 1041, PyObject 1042, PyObject 1043, PyObject 1044, PyObject 1045, PyObject 1046, PyObject 1047, PyObject 1048, PyObject 1049, PyObject 1050, PyObject 1051, PyObject 1052, PyObject 1053, PyObject 1054, PyObject 1055, PyObject 1056, PyObject 1057, PyObject 1058, PyObject 1059, PyObject 1060, PyObject 1061, PyObject 1062, PyObject 1063, PyObject 1064, PyObject 1065, PyObject 1066, PyObject 1067, PyObject 1068, PyObject 1069, PyObject 1070, PyObject 1071, PyObject 1072, PyObject 1073, PyObject 1074, PyObject 1075, PyObject 1076, PyObject 1077, PyObject 1078, PyObject 1079, PyObject 1080, PyObject 1081, PyObject 1082, PyObject 1083, PyObject 1084, PyObject 1085, PyObject 1086, PyObject 1087, PyObject 1088, PyObject 1089, PyObject 1090, PyObject 1091, PyObject 1092, PyObject 1093, PyObject 1094, PyObject 1095, PyObject 1096, PyObject 1097, PyObject 1098, PyObject 1099, PyObject 1100, PyObject 1101, PyObject 1102, PyObject 1103, PyObject 1104, PyObject 1105, PyObject 1106, PyObject 1107, PyObject 1108, PyObject 1109, PyObject 1110, PyObject 1111, PyObject 1112, PyObject 1113, PyObject 1114, PyObject 1115, PyObject 1116, PyObject 1117, PyObject 1118, PyObject 1119, PyObject 1120, PyObject 1121, PyObject 1122, PyObject 1123, PyObject 1124, PyObject 1125, PyObject 1126, PyObject 1127, PyObject 1128, PyObject 1129, PyObject 1130, PyObject 1131, PyObject 1132, PyObject 1133, PyObject 1134, PyObject 1135, PyObject 1136, PyObject 1137, PyObject 1138, PyObject 1139, PyObject 1140, PyObject 1141, PyObject 1142, PyObject 1143, PyObject 1144, PyObject 1145, PyObject 1146, PyObject 1147, PyObject 1148, PyObject 1149, PyObject 1150, PyObject 1151, PyObject 1152, PyObject 1153, PyObject 1154, PyObject 1155, PyObject 1156, PyObject 1157, PyObject 1158, PyObject 1159, PyObject 1160, PyObject 1161, PyObject 1162, PyObject 1163, PyObject 1164, PyObject 1165, PyObject 1166, PyObject 1167, PyObject 1168, PyObject 1169, PyObject 1170, PyObject 1171, PyObject 1172, PyObject 1173, PyObject 1174, PyObject 1175, PyObject 1176, PyObject 1177, PyObject 1178, PyObject 1179, PyObject 1180, PyObject 1181, PyObject 1182, PyObject 1183, PyObject 1184, PyObject 1185, PyObject 1186, PyObject 1187, PyObject 1188, PyObject 1189, PyObject 1190, PyObject 1191, PyObject 1192, PyObject 1193, PyObject 1194, PyObject 1195, PyObject 1196, PyObject 1197, PyObject 1198, PyObject 1199, PyObject 1200]\n"
     ]
    }
   ],
   "source": [
    "#get unique values of of the indices of comb_df\n",
    "index_keys = comb_df.index\n",
    "println(index_keys)\n",
    "unique_values = comb_df[\"k\"].unique()\n",
    "println(unique_values)\n",
    "#test = choose(5, 3)\n",
    "#(0, 0, 1, 0, 0)\n",
    "#s, ga1, gb1, ga2, gb2\n",
    "#choose(s, ga_before)\n",
    "#choose(s, gb_before)\n",
    "#choose(T-s, ga2)\n",
    "#choose(T-s, gb2)\n",
    "#T = 1200\n",
    "#(1, 0, 1, 0, 0)\n",
    "\n"
   ]
  },
  {
   "cell_type": "markdown",
   "metadata": {},
   "source": [
    "$\\mathbb{P}[\\mathscr{E}_i] = \\mathbb{P}[(G_{a1} == g_{a1}) \\& (G_{a2} == g_{a2}) \\& (G_{b1} == g_{b1}) \\& (G_{b2} = g_{b2})]$ \\\\\n",
    "    $ = {s \\choose g_{a1}}(p_{a1})^{g_{a1}}(1 - p_{a1})^{s - g_{a1}} \\cdot {s \\choose g_{b1}}(p_{b1})^{g_{b1}}(1 - p_{b1})^{s - g_{b1}} \\cdot {T - s \\choose g_{a2}}(p_{a2})^{g_{a2}}(1 - p_{a2})^{T - s - g_{a2}} \\cdot {T - s \\choose g_{b2}}(p_{b2})^{g_{b2}}(1 - p_{b2})^{T - s - g_{b2}}$\n",
    "\n",
    "Need to break this down:\n",
    "${s \\choose g_{a1}}(p_{a1})^{g_{a1}}(1 - p_{a1})^{s - g_{a1}} \\cdot {s \\choose g_{b1}}(p_{b1})^{g_{b1}}(1 - p_{b1})^{s - g_{b1}} \\cdot {T - s \\choose g_{a2}}(p_{a2})^{g_{a2}}(1 - p_{a2})^{T - s - g_{a2}} \\cdot {T - s \\choose g_{b2}}(p_{b2})^{g_{b2}}(1 - p_{b2})^{T - s - g_{b2}}$"
   ]
  },
  {
   "cell_type": "code",
   "execution_count": 5,
   "metadata": {},
   "outputs": [
    {
     "data": {
      "text/plain": [
       "probability_of_event (generic function with 1 method)"
      ]
     },
     "execution_count": 5,
     "metadata": {},
     "output_type": "execute_result"
    }
   ],
   "source": [
    "function probability_of_event(s, T, prob_a1, prob_b1, prob_a2, prob_b2, ga_before, gb_before, ga2, gb2)\n",
    "    \n",
    "    #s = number of seconds in epoch 1 (5v5)\n",
    "    #T = number of seconds in epoch 2 (6v5)\n",
    "    #prob_a1 = probability of scoring in epoch 1 (5v5)\n",
    "    #prob_b1 = probability of opponent scoring in epoch 1 (5v5)\n",
    "    #prob_a2 = probability of scoring in epoch 2 (6v5)\n",
    "    #prob_b2 = probability of opponent scoring in epoch 2 (6v5)\n",
    "    #ga_before = number of goals our team has before goalie pull (epoch 0 & 1)\n",
    "    #gb_before = number of goals their team has before after goalie pull (epoch 0 & 1)\n",
    "    #ga2 = number of goals our team has after goalie pull (epoch 2)\n",
    "    #gb2= number of goals their team has after goalie pull (epoch 2)\n",
    "\n",
    "    #because indicies \n",
    "    return choose(s, ga_before) * prob_a1^ga_before * (1 - prob_a1)^(s - ga_before) * choose(s, gb_before) * prob_b1^gb_before * (1 - prob_b1)^(s - gb_before) * choose(T-s, ga2) * prob_a2^ga2 * (1 - prob_a2)^(T - s - ga2) * choose(T-s, gb2) * prob_b2^gb2 * (1 - prob_b2)^(T - s - gb2)\n",
    "end"
   ]
  },
  {
   "cell_type": "code",
   "execution_count": 6,
   "metadata": {},
   "outputs": [],
   "source": [
    "# Generate all possible states\n",
    "# Some extra notes:\n",
    "#important they must all be ints and they must all be >= 0\n",
    "# 0 =< ga1 <= s #assuming we can't score more than the number of seconds in epoch 1 (5v5) \n",
    "# 0 =< gb1 <= s #assuming we can't score more than the number of seconds in epoch 1 (5v5) \n",
    "\n",
    "# 0 =< ga2 <= T-s #assuming we can't score more than the number of seconds in epoch 2 (6v5)\n",
    "# 0 =< gb2 <= T-s #assuming we can't score more than the number of seconds in epoch 2 (6v5) \n",
    "\n",
    "#if we want to make s interval a minute for computational tractability could do T = 5 * 60 = 300 (5 minutes)\n",
    "\n",
    "#will start with just 2 minutes\n",
    "T = 2 * 60  #2 minutes\n",
    "states = []\n",
    "for s in 1:T\n",
    "    for ga1 in 0:s\n",
    "        for gb1 in 0:s\n",
    "            for ga2 in 0:T-s\n",
    "                for gb2 in 0:T-s\n",
    "                    push!(states, (s, ga1, gb1, ga2, gb2))\n",
    "                end\n",
    "            end\n",
    "        end\n",
    "    end\n",
    "end\n"
   ]
  },
  {
   "cell_type": "code",
   "execution_count": 44,
   "metadata": {},
   "outputs": [
    {
     "name": "stdout",
     "output_type": "stream",
     "text": [
      "state: (1, 0, 1, 0, 0)\n",
      "1203\n",
      "1204\n"
     ]
    },
    {
     "ename": "LoadError",
     "evalue": "PyError ($(Expr(:escape, :(ccall(#= /Users/lauraroettges/.julia/packages/PyCall/1gn3u/src/PyCall.jl:783 =# @pysym(:PyObject_GetItem), PyPtr, (PyPtr, PyPtr), o, PyObject(k)))))) <class 'KeyError'>\nKeyError(1203)\n  File \"/Users/lauraroettges/.julia/conda/3/x86_64/lib/python3.10/site-packages/pandas/core/indexing.py\", line 1191, in __getitem__\n    return self._getitem_axis(maybe_callable, axis=axis)\n  File \"/Users/lauraroettges/.julia/conda/3/x86_64/lib/python3.10/site-packages/pandas/core/indexing.py\", line 1431, in _getitem_axis\n    return self._get_label(key, axis=axis)\n  File \"/Users/lauraroettges/.julia/conda/3/x86_64/lib/python3.10/site-packages/pandas/core/indexing.py\", line 1381, in _get_label\n    return self.obj.xs(label, axis=axis)\n  File \"/Users/lauraroettges/.julia/conda/3/x86_64/lib/python3.10/site-packages/pandas/core/generic.py\", line 4301, in xs\n    loc = index.get_loc(key)\n  File \"/Users/lauraroettges/.julia/conda/3/x86_64/lib/python3.10/site-packages/pandas/core/indexes/base.py\", line 3812, in get_loc\n    raise KeyError(key) from err\n",
     "output_type": "error",
     "traceback": [
      "PyError ($(Expr(:escape, :(ccall(#= /Users/lauraroettges/.julia/packages/PyCall/1gn3u/src/PyCall.jl:783 =# @pysym(:PyObject_GetItem), PyPtr, (PyPtr, PyPtr), o, PyObject(k)))))) <class 'KeyError'>\nKeyError(1203)\n  File \"/Users/lauraroettges/.julia/conda/3/x86_64/lib/python3.10/site-packages/pandas/core/indexing.py\", line 1191, in __getitem__\n    return self._getitem_axis(maybe_callable, axis=axis)\n  File \"/Users/lauraroettges/.julia/conda/3/x86_64/lib/python3.10/site-packages/pandas/core/indexing.py\", line 1431, in _getitem_axis\n    return self._get_label(key, axis=axis)\n  File \"/Users/lauraroettges/.julia/conda/3/x86_64/lib/python3.10/site-packages/pandas/core/indexing.py\", line 1381, in _get_label\n    return self.obj.xs(label, axis=axis)\n  File \"/Users/lauraroettges/.julia/conda/3/x86_64/lib/python3.10/site-packages/pandas/core/generic.py\", line 4301, in xs\n    loc = index.get_loc(key)\n  File \"/Users/lauraroettges/.julia/conda/3/x86_64/lib/python3.10/site-packages/pandas/core/indexes/base.py\", line 3812, in get_loc\n    raise KeyError(key) from err\n",
      "",
      "Stacktrace:",
      "  [1] pyerr_check",
      "    @ ~/.julia/packages/PyCall/1gn3u/src/exception.jl:75 [inlined]",
      "  [2] pyerr_check",
      "    @ ~/.julia/packages/PyCall/1gn3u/src/exception.jl:79 [inlined]",
      "  [3] _handle_error(msg::String)",
      "    @ PyCall ~/.julia/packages/PyCall/1gn3u/src/exception.jl:96",
      "  [4] macro expansion",
      "    @ ~/.julia/packages/PyCall/1gn3u/src/exception.jl:110 [inlined]",
      "  [5] get",
      "    @ ~/.julia/packages/PyCall/1gn3u/src/PyCall.jl:782 [inlined]",
      "  [6] get",
      "    @ ~/.julia/packages/PyCall/1gn3u/src/PyCall.jl:787 [inlined]",
      "  [7] getindex(o::PyObject, i::Int64)",
      "    @ PyCall ./deprecated.jl:105",
      "  [8] choose(n::Int64, k::Int64)",
      "    @ Main ./In[37]:21",
      "  [9] probability_of_event(s::Int64, T::Int64, prob_a1::Float64, prob_b1::Float64, prob_a2::Float64, prob_b2::Float64, ga_before::Int64, gb_before::Int64, ga2::Int64, gb2::Int64)",
      "    @ Main ./In[38]:15",
      " [10] top-level scope",
      "    @ ./In[44]:10"
     ]
    }
   ],
   "source": [
    "\n",
    "# Generate probabilities\n",
    "probabilities = Dict()\n",
    "#effectively could precompute w \n",
    "win_probs = Dict()\n",
    "for state in states\n",
    "    s, ga1, gb1, ga2, gb2 = state\n",
    "    success = ga1 + ga2 >= gb1 + gb2\n",
    "    println(\"state: \", state)\n",
    "    prob = probability_of_event(s, T, p_a1, p_b1, p_a2, p_b2, ga1, gb1, ga2, gb2)\n",
    "    println(\"prob: \", prob)\n",
    "    probabilities[state] = prob\n",
    "    if success == true\n",
    "        win_probs[state] = 1\n",
    "    else \n",
    "        win_probs[state] = 0\n",
    "    end\n",
    "end\n",
    ";"
   ]
  },
  {
   "cell_type": "code",
   "execution_count": null,
   "metadata": {},
   "outputs": [],
   "source": [
    "# I want to save this dictionary to a file so I can load it later\n",
    "using Serialization\n",
    "\n",
    "# Save the dictionary to a file\n",
    "open(\"probabilities_dict.jls\", \"w\") do io\n",
    "    serialize(io, probabilities)\n",
    "end\n",
    "open(\"success_state_dict.jls\", \"w\") do io\n",
    "    serialize(io, win_probs)\n",
    "end\n",
    "\n",
    "#may also want to save as a JSON file as back up \n",
    "using JSON\n",
    "\n",
    "# Save the dictionary to a file\n",
    "open(\"probabilities_dict_backup.json\", \"w\") do io\n",
    "    JSON.print(io, probabilities)\n",
    "end\n",
    "open(\"success_state_dict_backup.json\", \"w\") do io\n",
    "    JSON.print(io, win_probs)\n",
    "end"
   ]
  },
  {
   "cell_type": "code",
   "execution_count": null,
   "metadata": {},
   "outputs": [],
   "source": [
    "using Serialization\n",
    "# Load the dictionary from the file\n",
    "probabilities_loaded = open(\"probabilities_dict.jls\", \"r\") do io\n",
    "    deserialize(io)\n",
    "end"
   ]
  },
  {
   "cell_type": "code",
   "execution_count": null,
   "metadata": {},
   "outputs": [],
   "source": [
    "using JuMP, Ipopt\n",
    "\n",
    "mod = Model()\n",
    "\n",
    "#Variables\n",
    "#assuming we don't choose s = 0 (i.e. pull the goalie immediately - TODO: check w/ Ryan) \n",
    "@variable(mod, 1 <= s <= T, Int)      # s: how many seconds to wait before pulling the goalie \n",
    "@variable(mod, y, Bin)          # y: indicator variable for final score difference\n",
    "                                # y = 1 => d is positive (indicating a win or tie), y = 0 => or negative (indicating a loss)\n",
    "#@variable(mod, d, Int)          # d: final score difference (our team - their team)\n",
    "@variable(mod, w[1:length(states)] >= 0) # w: probability of each scenario    \n",
    "\n",
    "#Constraints\n",
    "# Define constraints based on states (s, ga1, gb1, ga2, gb2)\n",
    "for (i, state) in enumerate(states)\n",
    "    s, ga1, gb1, ga2, gb2 = state\n",
    "    d = (A0 +ga1 + ga2) - (B0 + gb1 + gb2)  # Calculate the score difference\n",
    "    \n",
    "    @constraint(mod, w[i] <= probabilities[state])\n",
    "    @constraint(mod, w[i] >= d)  \n",
    "    @constraint(mod, w[i] <=  M - (M * y))\n",
    "    @constraint(mod, w[i] <= d + M * y)\n",
    "end\n",
    "\n",
    "# Objective\n",
    "@objective(model, Max, sum(w[i] for i in 1:length(scenarios)))\n",
    "\n",
    "\n",
    "# will need the probability distribution for each possible decision"
   ]
  },
  {
   "cell_type": "code",
   "execution_count": null,
   "metadata": {},
   "outputs": [],
   "source": [
    "\n",
    "#set solver\n",
    "set_optimizer(mod, Ipopt.Optimizer)\n",
    "\n",
    "# Solve the model\n",
    "optimize!(mod)\n",
    "\n",
    "# Print the results\n",
    "println(\"Objective value: \", objective_value(mod))\n",
    "println(\"pull out the goalie at time s: \", value(s))"
   ]
  },
  {
   "cell_type": "code",
   "execution_count": null,
   "metadata": {},
   "outputs": [],
   "source": [
    "##Code for debugging\n",
    "## Print the DataFrame's index and columns for debugging\n",
    "#println(\"DataFrame Index: \", comb_df.index)\n",
    "#println(\"DataFrame Columns: \", comb_df.columns)\n",
    "#println(\"Number of Rows: \", comb_df.shape[1])\n",
    "#\n",
    "## Access a specific row\n",
    "#row = comb_df.loc[1202]\n",
    "#println(\"this row put in 1202:\", row)\n",
    "#row = comb_df.loc[1203]\n",
    "#println(\"next row put in 1203: \", row)\n",
    "#row = comb_df.loc[2403]\n",
    "#println(\"3rd row put in 2403: \",row)\n",
    "#\n",
    "## Access a specific element (ensure the index exists and the column name is correct)\n",
    "#println(\"this other thing: \",comb_df.loc[1202][\"n_choose_k\"])\n",
    "#\n",
    "#test_mult = comb_df.loc[1202][\"n_choose_k\"] * .05\n",
    "#println(\"test_mult: \", test_mult)"
   ]
  }
 ],
 "metadata": {
  "kernelspec": {
   "display_name": "Julia - Optimization Project 1.10.4",
   "language": "julia",
   "name": "julia---optimization-project-1.10"
  },
  "language_info": {
   "file_extension": ".jl",
   "mimetype": "application/julia",
   "name": "julia",
   "version": "1.10.4"
  }
 },
 "nbformat": 4,
 "nbformat_minor": 2
}
