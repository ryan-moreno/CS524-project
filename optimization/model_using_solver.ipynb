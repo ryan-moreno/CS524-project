{
 "cells": [
  {
   "cell_type": "markdown",
   "metadata": {},
   "source": [
    "## Modeling with Julia with Ipopt\n",
    "\n",
    "Anything with an _a_ reference relates to 'our' team. \n",
    "Anything with a _b_ reference relates to 'their' team."
   ]
  },
  {
   "cell_type": "code",
   "execution_count": 31,
   "metadata": {},
   "outputs": [
    {
     "name": "stdout",
     "output_type": "stream",
     "text": [
      "/Users/lauraroettges/.julia/conda/3/x86_64/bin/python\n"
     ]
    }
   ],
   "source": [
    "using PyCall\n",
    "println(PyCall.python)"
   ]
  },
  {
   "cell_type": "code",
   "execution_count": 32,
   "metadata": {},
   "outputs": [
    {
     "data": {
      "text/plain": [
       "PyObject <module 'pandas' from '/Users/lauraroettges/.julia/conda/3/x86_64/lib/python3.10/site-packages/pandas/__init__.py'>"
      ]
     },
     "execution_count": 32,
     "metadata": {},
     "output_type": "execute_result"
    }
   ],
   "source": [
    "using PyCall\n",
    "pyimport_conda(\"pandas\", \"pandas\")"
   ]
  },
  {
   "cell_type": "code",
   "execution_count": 33,
   "metadata": {},
   "outputs": [
    {
     "data": {
      "text/plain": [
       "PyObject <module 'pandas' from '/Users/lauraroettges/.julia/conda/3/x86_64/lib/python3.10/site-packages/pandas/__init__.py'>"
      ]
     },
     "execution_count": 33,
     "metadata": {},
     "output_type": "execute_result"
    }
   ],
   "source": [
    "using PyCall\n",
    "pd = pyimport(\"pandas\")"
   ]
  },
  {
   "cell_type": "code",
   "execution_count": 34,
   "metadata": {},
   "outputs": [
    {
     "name": "stdout",
     "output_type": "stream",
     "text": [
      "PyObject            n  k n_choose_k\n",
      "new_index                 \n",
      "0          0  0          1\n",
      "1201       1  0          1\n",
      "1202       1  1          1\n",
      "2402       2  0          1\n",
      "2403       2  1          2\n"
     ]
    },
    {
     "data": {
      "text/plain": [
       "3599"
      ]
     },
     "execution_count": 34,
     "metadata": {},
     "output_type": "execute_result"
    }
   ],
   "source": [
    "using DataFrames, PyCall\n",
    "\n",
    "#Define Data\n",
    "p_a1 = 0.000518  # (precomputed) probability of score when 5v5\n",
    "p_b1 = 0.000518  # (precomputed) probability of score when 5v5\n",
    "\n",
    "p_a2 = 0.00310   # (precomputed) probability that we score during a given second in 6v5 play\n",
    "p_b2 = 0.00851   # (precomputed) probability that the opponent scores during a given second in 6v5 play\n",
    "\n",
    "T_big = 1200 # number of seconds remaining in the game at start of period 3 (20 minutes)\n",
    "\n",
    "comb_df = pd.read_pickle(\"../precompute_combinations/precomputed_combinations_df.pkl\")\n",
    "println(comb_df.head())\n",
    "\n",
    "function choose(n, k)\n",
    "    #found out through trial and error n must be less than 1200 can not = 1200\n",
    "    index = n * 1201 + k\n",
    "    #because of julia need to add 1 to index\n",
    "    index += 1\n",
    "    return comb_df.loc[index][\"n_choose_k\"]\n",
    "end\n",
    "\n",
    "\n",
    "#A_0 = [] #TODO: stochastic set -  Our team’s current score (before decision)\n",
    "#B_0 = [] #TODO: stochastic set -  Their team’s current score (before decision)\n",
    "\n",
    "scenarios = [:tied, :behind_one, :behind_two]\n",
    "strategies = [:pull_goalie, :play_normal]\n",
    "\n",
    "a_0 = Dict(zip(scenarios, [0, 0, 0]))\n",
    "b_0 = Dict(zip(scenarios, [0, 1, 2]))\n",
    "\n",
    "#going to start by assuming we are in the behind 1 scenario\n",
    "A_0 = a_0[:behind_one]\n",
    "B_0 = b_0[:behind_one]\n",
    "\n",
    "M = 3599 #be the maximum possible value of d (if their team scored every second of the game and our team never scored)\n"
   ]
  },
  {
   "cell_type": "markdown",
   "metadata": {},
   "source": [
    "$\\mathbb{P}[\\mathscr{E}_i] = \\mathbb{P}[(G_{a1} == g_{a1}) \\& (G_{a2} == g_{a2}) \\& (G_{b1} == g_{b1}) \\& (G_{b2} = g_{b2})]$ \\\\\n",
    "    $ = {s \\choose g_{a1}}(p_{a1})^{g_{a1}}(1 - p_{a1})^{s - g_{a1}} \\cdot {s \\choose g_{b1}}(p_{b1})^{g_{b1}}(1 - p_{b1})^{s - g_{b1}} \\cdot {T - s \\choose g_{a2}}(p_{a2})^{g_{a2}}(1 - p_{a2})^{T - s - g_{a2}} \\cdot {T - s \\choose g_{b2}}(p_{b2})^{g_{b2}}(1 - p_{b2})^{T - s - g_{b2}}$\n",
    "\n",
    "Need to break this down:\n",
    "${s \\choose g_{a1}}(p_{a1})^{g_{a1}}(1 - p_{a1})^{s - g_{a1}} \\cdot {s \\choose g_{b1}}(p_{b1})^{g_{b1}}(1 - p_{b1})^{s - g_{b1}} \\cdot {T - s \\choose g_{a2}}(p_{a2})^{g_{a2}}(1 - p_{a2})^{T - s - g_{a2}} \\cdot {T - s \\choose g_{b2}}(p_{b2})^{g_{b2}}(1 - p_{b2})^{T - s - g_{b2}}$"
   ]
  },
  {
   "cell_type": "code",
   "execution_count": 35,
   "metadata": {},
   "outputs": [
    {
     "data": {
      "text/plain": [
       "probability_of_event (generic function with 1 method)"
      ]
     },
     "execution_count": 35,
     "metadata": {},
     "output_type": "execute_result"
    }
   ],
   "source": [
    "function probability_of_event(s, T, prob_a1, prob_b1, prob_a2, prob_b2, ga_before, gb_before, ga2, gb2)\n",
    "    \n",
    "    #s = number of seconds in epoch 1 (5v5)\n",
    "    #T = number of seconds in epoch 2 (6v5)\n",
    "    #prob_a1 = probability of scoring in epoch 1 (5v5)\n",
    "    #prob_b1 = probability of opponent scoring in epoch 1 (5v5)\n",
    "    #prob_a2 = probability of scoring in epoch 2 (6v5)\n",
    "    #prob_b2 = probability of opponent scoring in epoch 2 (6v5)\n",
    "    #ga_before = number of goals our team has before goalie pull (epoch 0 & 1)\n",
    "    #gb_before = number of goals their team has before after goalie pull (epoch 0 & 1)\n",
    "    #ga2 = number of goals our team has after goalie pull (epoch 2)\n",
    "    #gb2= number of goals their team has after goalie pull (epoch 2)\n",
    "    #ensure relevant values are integers\n",
    "    s = Int(s)\n",
    "    T = Int(T)\n",
    "    ga_before = Int(ga_before)\n",
    "    gb_before = Int(gb_before)\n",
    "    ga2 = Int(ga2)\n",
    "    gb2 = Int(gb2)\n",
    "\n",
    "    #because indicies \n",
    "    calcd_prob = choose(s, ga_before) * prob_a1^ga_before * (1 - prob_a1)^(s - ga_before) * choose(s, gb_before) * prob_b1^gb_before * (1 - prob_b1)^(s - gb_before) * choose(T-s, ga2) * prob_a2^ga2 * (1 - prob_a2)^(T - s - ga2) * choose(T-s, gb2) * prob_b2^gb2 * (1 - prob_b2)^(T - s - gb2)\n",
    "    return calcd_prob\n",
    "end"
   ]
  },
  {
   "cell_type": "code",
   "execution_count": 36,
   "metadata": {},
   "outputs": [],
   "source": [
    "# Generate all possible states\n",
    "# Some extra notes:\n",
    "#important they must all be ints and they must all be >= 0\n",
    "# 0 =< ga1 <= s #assuming we can't score more than the number of seconds in epoch 1 (5v5) \n",
    "# 0 =< gb1 <= s #assuming we can't score more than the number of seconds in epoch 1 (5v5) \n",
    "\n",
    "# 0 =< ga2 <= T-s #assuming we can't score more than the number of seconds in epoch 2 (6v5)\n",
    "# 0 =< gb2 <= T-s #assuming we can't score more than the number of seconds in epoch 2 (6v5) \n",
    "\n",
    "#if we want to make s interval a minute for computational tractability could do T = 5 * 60 = 300 (5 minutes)\n",
    "\n",
    "#will start with just 2 minutes\n",
    "T_big = 5 * 60  #2 minutes\n",
    "\n",
    "T_big = T_big / 10 #I want S to be 10 second increments\n",
    "# then also need to update probabilities by a factor of 10 \n",
    "p_a1 = p_a1*10\n",
    "p_b1 = p_b1*10\n",
    "\n",
    "p_a2 = p_a2*10\n",
    "p_b2 = p_b2*10\n",
    "states = []\n",
    "for s in 1:T_big\n",
    "    for ga1 in 0:s\n",
    "        for gb1 in 0:s\n",
    "            for ga2 in 0:T-s\n",
    "                for gb2 in 0:T-s\n",
    "                    push!(states, (s, ga1, gb1, ga2, gb2))\n",
    "                end\n",
    "            end\n",
    "        end\n",
    "    end\n",
    "end\n"
   ]
  },
  {
   "cell_type": "code",
   "execution_count": 8,
   "metadata": {},
   "outputs": [],
   "source": [
    "\n",
    "# Generate probabilities\n",
    "probabilities = Dict()\n",
    "#effectively could precompute w \n",
    "win_probs = Dict()\n",
    "for state in states\n",
    "    s, ga1, gb1, ga2, gb2 = state\n",
    "    success = ga1 + ga2 >= gb1 + gb2\n",
    "    #println(\"state: \", state)\n",
    "    prob = probability_of_event(s, T, p_a1, p_b1, p_a2, p_b2, ga1, gb1, ga2, gb2)\n",
    "    #println(\"prob: \", prob)\n",
    "    probabilities[state] = prob\n",
    "    if success == true\n",
    "        win_probs[state] = 1\n",
    "    else \n",
    "        win_probs[state] = 0\n",
    "    end\n",
    "end\n",
    ";"
   ]
  },
  {
   "cell_type": "code",
   "execution_count": null,
   "metadata": {},
   "outputs": [],
   "source": [
    "# I want to save this dictionary to a file so I can load it later\n",
    "using Serialization\n",
    "\n",
    "# Save the dictionary to a file\n",
    "open(\"probabilities_dict.jls\", \"w\") do io\n",
    "    serialize(io, probabilities)\n",
    "end\n",
    "open(\"success_state_dict.jls\", \"w\") do io\n",
    "    serialize(io, win_probs)\n",
    "end\n",
    "\n",
    "#may also want to save as a JSON file as back up \n",
    "using JSON\n",
    "\n",
    "# Save the dictionary to a file\n",
    "open(\"probabilities_dict_backup.json\", \"w\") do io\n",
    "    JSON.print(io, probabilities)\n",
    "end\n",
    "open(\"success_state_dict_backup.json\", \"w\") do io\n",
    "    JSON.print(io, win_probs)\n",
    "end"
   ]
  },
  {
   "cell_type": "code",
   "execution_count": null,
   "metadata": {},
   "outputs": [],
   "source": [
    "using Serialization\n",
    "# Load the dictionary from the file\n",
    "probabilities_loaded = open(\"probabilities_dict.jls\", \"r\") do io\n",
    "    deserialize(io)\n",
    "end"
   ]
  },
  {
   "cell_type": "code",
   "execution_count": 11,
   "metadata": {},
   "outputs": [],
   "source": [
    "using JuMP, HiGHS, MathOptInterface\n",
    "\n",
    "# I think M can now be 359 (since we are now in 10 second increments)\n",
    "# M = 359 # I will start with this commented though just in case\n",
    "\n",
    "model = Model()\n",
    "\n",
    "# Variables\n",
    "# assuming we don't choose s = 0 (i.e. pull the goalie immediately - TODO: check w/ Ryan) \n",
    "@variable(model, 1 <= s <= T_big, Int)      # s: how many seconds to wait before pulling the goalie \n",
    "@variable(model, y, Bin)          # y: indicator variable for final score difference\n",
    "                                  # y = 1 => d is positive (indicating a win or tie), y = 0 => or negative (indicating a loss)\n",
    "# @variable(model, d, Int)          # d: final score difference (our team - their team)\n",
    "\n",
    "# Initialize an empty dictionary to store the variables\n",
    "w = Dict{Tuple{Int, Int, Int, Int, Int}, JuMP.VariableRef}()\n",
    "\n",
    "for s in 1:T_big\n",
    "    for ga1 in 0:s\n",
    "        for gb1 in 0:s\n",
    "            for ga2 in 0:T_big-s\n",
    "                for gb2 in 0:T_big-s\n",
    "                    # Set up variable w for each scenario\n",
    "\n",
    "                    w[(s, ga1, gb1, ga2, gb2)] = @variable(model, base_name=\"w_$(s)_$(ga1)_$(gb1)_$(ga2)_$(gb2)\")\n",
    "                    # Set up w[i] < probabilities of state \n",
    "                    # (s, T, p_a1, p_b1, p_a2, p_b2, ga1, gb1, ga2, gb2)\n",
    "                    curr_prob = probability_of_event(s, T_big, p_a1, p_b1, p_a2, p_b2, ga1, gb1, ga2, gb2)\n",
    "                    #@expression(model, curr_prob, probability_of_event(s, T, p_a1, p_b1, p_a2, p_b2, ga1, gb1, ga2, gb2))\n",
    "                    # Convert curr_prob to a Julia type if it is a PyCall.jlwrap object\n",
    "                    curr_prob = convert(Float64, curr_prob)\n",
    "                    @constraint(model, w[(s, ga1, gb1, ga2, gb2)] <= curr_prob)\n",
    "                    d = (A_0 + ga1 + ga2) + 1 - (B_0 + gb1 + gb2)  # Calculate the score difference\n",
    "                    @constraint(model, w[(s, ga1, gb1, ga2, gb2)] >= 0)\n",
    "                    @constraint(model, w[(s, ga1, gb1, ga2, gb2)] >= d)\n",
    "                    @constraint(model, w[(s, ga1, gb1, ga2, gb2)] <= M - (M * y))\n",
    "                    @constraint(model, w[(s, ga1, gb1, ga2, gb2)] <= d + M * y)\n",
    "                    #@constraint(model, w[(s, ga1, gb1, ga2, gb2)] <= M * y)\n",
    "                    #@constraint(model, w[(s, ga1, gb1, ga2, gb2)] <= d + M * (1-y))\n",
    "                end\n",
    "            end\n",
    "        end\n",
    "    end\n",
    "end\n",
    "\n",
    "# Objective\n",
    "@objective(model, Max, sum(w[key] for key in keys(w)))\n",
    ";\n"
   ]
  },
  {
   "cell_type": "code",
   "execution_count": 40,
   "metadata": {},
   "outputs": [
    {
     "data": {
      "text/latex": [
       "$ w_{1} + w_{2} + w_{3} + w_{4} + w_{5} + w_{6} + w_{7} + w_{8} + w_{9} + w_{10} + w_{11} + w_{12} + w_{13} + w_{14} + w_{15} + w_{16} + w_{17} + w_{18} + w_{19} + w_{20} + w_{21} + w_{22} + w_{23} + w_{24} + w_{25} + w_{26} + w_{27} + w_{28} + w_{29} + w_{30} + [[\\ldots\\text{1117459 terms omitted}\\ldots]] + w_{1117490} + w_{1117491} + w_{1117492} + w_{1117493} + w_{1117494} + w_{1117495} + w_{1117496} + w_{1117497} + w_{1117498} + w_{1117499} + w_{1117500} + w_{1117501} + w_{1117502} + w_{1117503} + w_{1117504} + w_{1117505} + w_{1117506} + w_{1117507} + w_{1117508} + w_{1117509} + w_{1117510} + w_{1117511} + w_{1117512} + w_{1117513} + w_{1117514} + w_{1117515} + w_{1117516} + w_{1117517} + w_{1117518} + w_{1117519} $"
      ],
      "text/plain": [
       "w[1] + w[2] + w[3] + w[4] + w[5] + w[6] + w[7] + w[8] + w[9] + w[10] + w[11] + w[12] + w[13] + w[14] + w[15] + w[16] + w[17] + w[18] + w[19] + w[20] + w[21] + w[22] + w[23] + w[24] + w[25] + w[26] + w[27] + w[28] + w[29] + w[30] + [[...1117459 terms omitted...]] + w[1117490] + w[1117491] + w[1117492] + w[1117493] + w[1117494] + w[1117495] + w[1117496] + w[1117497] + w[1117498] + w[1117499] + w[1117500] + w[1117501] + w[1117502] + w[1117503] + w[1117504] + w[1117505] + w[1117506] + w[1117507] + w[1117508] + w[1117509] + w[1117510] + w[1117511] + w[1117512] + w[1117513] + w[1117514] + w[1117515] + w[1117516] + w[1117517] + w[1117518] + w[1117519]"
      ]
     },
     "execution_count": 40,
     "metadata": {},
     "output_type": "execute_result"
    }
   ],
   "source": [
    "using JuMP, HiGHS, MathOptInterface\n",
    "\n",
    "model = Model()\n",
    "# I think M can now be 359 (since we are now in 10 second increments)\n",
    "M = 359 # I will start with this commented though just in case\n",
    "\n",
    "#Variables\n",
    "#assuming we don't choose s = 0 (i.e. pull the goalie immediately - TODO: check w/ Ryan) \n",
    "@variable(model, 0 <= s <= T, Int)      # s: how many seconds to wait before pulling the goalie \n",
    "@variable(model, w[1:length(states)] >= 0) # w: probability of each scenario   \n",
    "@variable(model, y[1:length(states)], Bin) # y: indicator variable for final score difference\n",
    "                                # y = 0 => d is positive (indicating a win or tie), y = 1 => or negative (indicating a loss) \n",
    "\n",
    "#Constraints\n",
    "# Define constraints based on states (s, ga1, gb1, ga2, gb2)\n",
    "for (i, state) in enumerate(states)\n",
    "    s_for_now, ga1, gb1, ga2, gb2 = state\n",
    "    d = (A_0 +ga1 + ga2) +1 - (B_0 + gb1 + gb2)  # Calculate the score difference\n",
    "    #println(\"d: \", d)\n",
    "    #if d >= 0\n",
    "    #    y = 0\n",
    "    #else\n",
    "    #    y = 1\n",
    "    #end\n",
    "\n",
    "    #need to make sure y is appropriately defined\n",
    "    @constraint(model, M*y[i] <= M - d)\n",
    "\n",
    "    #@constraint(model, w[i] <= convert(Float64, probabilities[state]))\n",
    "    #if I don't relate it to probabiliies and only d \n",
    "    @constraint(model, w[i] >= d) \n",
    "\n",
    "    #ok thoughts cant say w is greater than or equal to 0 and less than or equal to d because d could be negative\n",
    "    #that will make this infeasible\n",
    "\n",
    "    @constraint(model, w[i] <=  M - (M * y[i]))\n",
    "    @constraint(model, w[i] <= d + M * y[i])\n",
    "    \n",
    "    #need to actually incorporate s appropriately - which I am not doing now, it's a variable I am never using.. \n",
    "\n",
    "end\n",
    "\n",
    "# Objective\n",
    "@objective(model, Max, sum(w[i] for i in 1:length(states)))\n"
   ]
  },
  {
   "cell_type": "code",
   "execution_count": 41,
   "metadata": {},
   "outputs": [
    {
     "name": "stdout",
     "output_type": "stream",
     "text": [
      "Number of constraints: 6705117\n",
      "Length of w: 1117519\n",
      "Running HiGHS 1.7.2 (git hash: 5ce7a2753): Copyright (c) 2024 HiGHS under MIT licence terms\n",
      "Coefficient ranges:\n",
      "  Matrix [1e+00, 4e+02]\n",
      "  Cost   [1e+00, 1e+00]\n",
      "  Bound  [1e+00, 3e+01]\n",
      "  RHS    [1e+00, 4e+02]\n",
      "Presolving model\n",
      "1161264 rows, 624377 cols, 1248754 nonzeros  2s\n",
      "87490 rows, 78740 cols, 157480 nonzeros  3s\n",
      "69990 rows, 62990 cols, 125980 nonzeros  3s\n",
      "55990 rows, 50390 cols, 100780 nonzeros  3s\n",
      "44790 rows, 40310 cols, 80620 nonzeros  3s\n",
      "35830 rows, 32246 cols, 64492 nonzeros  3s\n",
      "28662 rows, 25795 cols, 51590 nonzeros  4s\n",
      "22928 rows, 20635 cols, 41270 nonzeros  4s\n",
      "18342 rows, 16507 cols, 33014 nonzeros  4s\n",
      "14672 rows, 13204 cols, 26408 nonzeros  4s\n",
      "11736 rows, 10562 cols, 21124 nonzeros  4s\n",
      "9388 rows, 8387 cols, 16774 nonzeros  4s\n",
      "7386 rows, 6385 cols, 12770 nonzeros  4s\n",
      "5384 rows, 4383 cols, 8766 nonzeros  4s\n",
      "3382 rows, 2381 cols, 4762 nonzeros  4s\n",
      "1380 rows, 690 cols, 1380 nonzeros  4s\n",
      "0 rows, 0 cols, 0 nonzeros  4s\n",
      "Presolve: Optimal\n",
      "\n",
      "Solving report\n",
      "  Status            Optimal\n",
      "  Primal bound      4458016\n",
      "  Dual bound        4458016\n",
      "  Gap               0% (tolerance: 0.01%)\n",
      "  Solution status   feasible\n",
      "                    4458016 (objective)\n",
      "                    0 (bound viol.)\n",
      "                    0 (int. viol.)\n",
      "                    0 (row viol.)\n",
      "  Timing            4.34 (total)\n",
      "                    4.11 (presolve)\n",
      "                    0.00 (postsolve)\n",
      "  Nodes             0\n",
      "  LP iterations     0 (total)\n",
      "                    0 (strong br.)\n",
      "                    0 (separation)\n",
      "                    0 (heuristics)\n",
      "204.180338 seconds (55.88 M allocations: 4.897 GiB, 89.41% gc time)\n",
      "Objective value: 4.458016e6\n",
      "pull out the goalie at time s: 0.0\n"
     ]
    }
   ],
   "source": [
    "using JuMP, HiGHS, MathOptInterface\n",
    "\n",
    "\n",
    "#set solver\n",
    "set_optimizer(model, HiGHS.Optimizer)\n",
    "\n",
    "\n",
    "# Print constraints\n",
    "#println(\"Constraints:\")\n",
    "#for c in all_constraints(model, include_variable_in_set_constraints=true)\n",
    "#    # Get lower and upper bounds for the constraint\n",
    "#    try\n",
    "#        lb = MathOptInterface.get(model, MathOptInterface.LowerBound, c)\n",
    "#        ub = MathOptInterface.get(model, MathOptInterface.UpperBound, c)\n",
    "#        if ub < lb\n",
    "#            println(\"Conflict detected\")\n",
    "#            println(c)\n",
    "#        end\n",
    "#    catch e\n",
    "#        # Handle cases where bounds are not available\n",
    "#        println(\"No bounds available for constraint: \", c)\n",
    "#    end\n",
    "#end\n",
    "\n",
    "\n",
    "println(\"Number of constraints: \", num_constraints(model, count_variable_in_set_constraints=true))\n",
    "#print the lengthe of w\n",
    "println(\"Length of w: \", length(w))\n",
    "\n",
    "# Solve the model\n",
    "@time(optimize!(model))\n",
    "\n",
    "# Print the results\n",
    "println(\"Objective value: \", objective_value(model))\n",
    "println(\"pull out the goalie at time s: \", value(s))\n"
   ]
  },
  {
   "cell_type": "code",
   "execution_count": null,
   "metadata": {},
   "outputs": [],
   "source": [
    "#so far just getting pull them at the very beginning which I know is wrong for 5 minutes \n",
    "#I think I need to factor in probability still not just max(d, 0)\n",
    "#also s is not actually making an appearance in my model"
   ]
  },
  {
   "cell_type": "code",
   "execution_count": null,
   "metadata": {},
   "outputs": [],
   "source": [
    "##Code for debugging\n",
    "## Print the DataFrame's index and columns for debugging\n",
    "#println(\"DataFrame Index: \", comb_df.index)\n",
    "#println(\"DataFrame Columns: \", comb_df.columns)\n",
    "#println(\"Number of Rows: \", comb_df.shape[1])\n",
    "#\n",
    "## Access a specific row\n",
    "#row = comb_df.loc[1202]\n",
    "#println(\"this row put in 1202:\", row)\n",
    "#row = comb_df.loc[1203]\n",
    "#println(\"next row put in 1203: \", row)\n",
    "#row = comb_df.loc[2403]\n",
    "#println(\"3rd row put in 2403: \",row)\n",
    "#\n",
    "## Access a specific element (ensure the index exists and the column name is correct)\n",
    "#println(\"this other thing: \",comb_df.loc[1202][\"n_choose_k\"])\n",
    "#\n",
    "#test_mult = comb_df.loc[1202][\"n_choose_k\"] * .05\n",
    "#println(\"test_mult: \", test_mult)"
   ]
  }
 ],
 "metadata": {
  "kernelspec": {
   "display_name": "Julia - Optimization Project 1.10.4",
   "language": "julia",
   "name": "julia---optimization-project-1.10"
  },
  "language_info": {
   "file_extension": ".jl",
   "mimetype": "application/julia",
   "name": "julia",
   "version": "1.10.4"
  }
 },
 "nbformat": 4,
 "nbformat_minor": 2
}
