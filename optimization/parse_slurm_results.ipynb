{
 "cells": [
  {
   "cell_type": "code",
   "execution_count": null,
   "metadata": {},
   "outputs": [],
   "source": [
    "import pandas as pd"
   ]
  },
  {
   "cell_type": "markdown",
   "metadata": {},
   "source": [
    "## Function to read partial output from slurm out txt file"
   ]
  },
  {
   "cell_type": "code",
   "execution_count": null,
   "metadata": {},
   "outputs": [],
   "source": [
    "# Parse partial results from slurm out file\n",
    "results = []\n",
    "pattern = r\"Pull time: (\\d+), num_arrangements: (\\d+) Probability of success: ([\\d.]+), Compute time: ([\\d.]+)\"\n",
    "\n",
    "# Read in lines from temp.txt\n",
    "with open(\"results/temp.txt\") as f:\n",
    "    lines = f.readlines()\n",
    "    for line in lines:\n",
    "        line = line.strip()\n",
    "\n",
    "        if line.startswith(\"Pull time:\"):\n",
    "            match = re.search(pattern, line)\n",
    "            pull_time = int(match.group(1))\n",
    "            num_arrangements = int(match.group(2))\n",
    "            prob_success = float(match.group(3))\n",
    "            compute_time = float(match.group(4))\n",
    "            results.append(\n",
    "                {\n",
    "                    \"pull_time\": pull_time,\n",
    "                    \"num_arrangements\": num_arrangements,\n",
    "                    \"prob_success\": prob_success,\n",
    "                    \"compute_time\": compute_time,\n",
    "                }\n",
    "            )\n",
    "\n",
    "# Create a DataFrame from the results\n",
    "decisions_df = pd.DataFrame(results)\n",
    "display(decisions_df)\n",
    "decisions_df.to_pickle(\"results/temp.pkl\")"
   ]
  }
 ],
 "metadata": {
  "language_info": {
   "name": "python"
  }
 },
 "nbformat": 4,
 "nbformat_minor": 2
}
