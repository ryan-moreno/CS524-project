{
 "cells": [
  {
   "cell_type": "markdown",
   "metadata": {},
   "source": [
    "To run via slurm, first output the ipynb notebook to python using `jupyter nbconvert --to script optimization_model.ipynb`"
   ]
  },
  {
   "cell_type": "code",
   "execution_count": 2,
   "metadata": {},
   "outputs": [],
   "source": [
    "import time\n",
    "import pandas as pd"
   ]
  },
  {
   "cell_type": "markdown",
   "metadata": {},
   "source": [
    "## Load precomputed combinations to save computation time"
   ]
  },
  {
   "cell_type": "code",
   "execution_count": 3,
   "metadata": {},
   "outputs": [],
   "source": [
    "comb_df = pd.read_pickle(\"../precompute_combinations/precomputed_combinations_df.pkl\")\n",
    "# Set indices for faster accession\n",
    "comb_df.set_index([\"n\", \"k\"], inplace=True)\n",
    "comb_df.sort_index(inplace=True)\n",
    "\n",
    "def choose(n, k):\n",
    "    return comb_df.loc[(n, k), \"n_choose_k\"]"
   ]
  },
  {
   "cell_type": "markdown",
   "metadata": {},
   "source": [
    "## Load probabilities\n",
    "\n",
    "TODO: right now this just hard codes some values"
   ]
  },
  {
   "cell_type": "code",
   "execution_count": 4,
   "metadata": {},
   "outputs": [],
   "source": [
    "# Approximate probability of a goal in a given second\n",
    "seconds_in_game = 20 * 60 * 3\n",
    "p_a1 = 3.12 / seconds_in_game\n",
    "p_b1 = p_a1\n",
    "\n",
    "# Probability of the other team scoring during 6v5 increases\n",
    "p_b2 = 1.5 * p_b1\n",
    "\n",
    "# Probability of our team scoring during 6v5 also increases, though not as much\n",
    "p_a1 = 1.25 * p_a1"
   ]
  },
  {
   "cell_type": "markdown",
   "metadata": {},
   "source": [
    "## Inputs to model"
   ]
  },
  {
   "cell_type": "code",
   "execution_count": 5,
   "metadata": {},
   "outputs": [],
   "source": [
    "# Let's say the current score is 1 - 3\n",
    "a_0 = 1\n",
    "b_0 = 3\n",
    "\n",
    "# 5 minutes left in the game\n",
    "T = 5 * 60"
   ]
  },
  {
   "cell_type": "markdown",
   "metadata": {},
   "source": [
    "## Brute force every choice of $s$"
   ]
  },
  {
   "cell_type": "code",
   "execution_count": 6,
   "metadata": {},
   "outputs": [
    {
     "data": {
      "text/plain": [
       "'...computing for s=0 seconds'"
      ]
     },
     "metadata": {},
     "output_type": "display_data"
    },
    {
     "name": "stderr",
     "output_type": "stream",
     "text": [
      "/var/folders/nn/pb4b1kzx12vbp6sgl69b77rw0000gp/T/ipykernel_96569/3688272518.py:45: FutureWarning: The behavior of DataFrame concatenation with empty or all-NA entries is deprecated. In a future version, this will no longer exclude empty or all-NA columns when determining the result dtypes. To retain the old behavior, exclude the relevant entries before the concat operation.\n",
      "  decisions_df = pd.concat(\n"
     ]
    }
   ],
   "source": [
    "decisions_df = pd.DataFrame(columns = [\n",
    "    'pull_time',\n",
    "    'prob_success',\n",
    "    'compute_time'])\n",
    "\n",
    "#  Try out each possible time to pull the goalie\n",
    "for i in range(0, T):\n",
    "    s = i\n",
    "    if s % 30 == 0:\n",
    "        display(f\"...computing for s={s} seconds\")\n",
    "    start_time = time.time()\n",
    "\n",
    "    prob_success = 0\n",
    "\n",
    "    # Number of goals scored by other team before pulling the goalie\n",
    "    for g_b1 in range(0, s):\n",
    "        prob_gb1 = choose(s, g_b1) * (p_b1 ** g_b1) * ((1 - p_b1) ** (s - g_b1))\n",
    "\n",
    "        # Number of goals scored by our team before pulling the goalie\n",
    "        for g_a1 in range(0, s):\n",
    "            prob_ga1 = choose(s, g_a1) * (p_a1 ** g_a1) * ((1 - p_a1) ** (s - g_a1))\n",
    "\n",
    "            # Number of goals scored by other team after pulling the goalie\n",
    "            for g_b2 in range(0, T - s):\n",
    "                prob_gb2 = choose(T - s, g_b2) * (p_b2 ** g_b2) * ((1 - p_b2) ** (T - s - g_b2))\n",
    "\n",
    "                # Number of goals scored by our team after pulling the goalie\n",
    "                for g_a2 in range(0, T - s):\n",
    "                    prob_ga2 = choose(T - s, g_a2) * (p_a1 ** g_a2) * ((1 - p_a1) ** (T - s - g_a2))\n",
    "\n",
    "                    # Probability of this event\n",
    "                    prob = prob_gb1 * prob_ga1 * prob_gb2 * prob_ga2\n",
    "\n",
    "                    # Update the score\n",
    "                    a = a_0 + g_a1 + g_a2\n",
    "                    b = b_0 + g_b1 + g_b2\n",
    "\n",
    "                    # Success if we win or tie\n",
    "                    success = (a >= b)\n",
    "\n",
    "                    prob_success = prob_success + prob * success\n",
    "    end_time = time.time()\n",
    "    elapsed_time = end_time - start_time\n",
    "\n",
    "    decisions_df = pd.concat(\n",
    "        [\n",
    "            decisions_df,\n",
    "            pd.DataFrame({\n",
    "                \"pull_time\": s,\n",
    "                \"prob_success\": prob_success,\n",
    "                \"compute_time\": elapsed_time\n",
    "            }, index=[0]),\n",
    "        ], ignore_index=True\n",
    "    )\n",
    "\n",
    "display(decisions_df)"
   ]
  },
  {
   "cell_type": "markdown",
   "metadata": {},
   "source": [
    "## Select the optimal choice"
   ]
  },
  {
   "cell_type": "code",
   "execution_count": null,
   "metadata": {},
   "outputs": [],
   "source": [
    "optimal_index = decisions_df[\"prob_success\"].idxmax()\n",
    "optimal_time = decisions_df.loc[optimal_index, \"pull_time\"]\n",
    "optimal_prob = decisions_df.loc[optimal_index, \"prob_success\"]\n",
    "\n",
    "print(f\"Optimal time to pull the goalie: {optimal_time} seconds, resulting in a probability of {optimal_prob} of winning or tying the game.\")"
   ]
  }
 ],
 "metadata": {
  "kernelspec": {
   "display_name": "general_purpose_venv",
   "language": "python",
   "name": "python3"
  },
  "language_info": {
   "codemirror_mode": {
    "name": "ipython",
    "version": 3
   },
   "file_extension": ".py",
   "mimetype": "text/x-python",
   "name": "python",
   "nbconvert_exporter": "python",
   "pygments_lexer": "ipython3",
   "version": "3.12.3"
  }
 },
 "nbformat": 4,
 "nbformat_minor": 2
}
