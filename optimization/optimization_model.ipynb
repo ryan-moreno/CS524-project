{
 "cells": [
  {
   "cell_type": "markdown",
   "metadata": {},
   "source": [
    "To run via slurm, first output the ipynb notebook to python using `jupyter nbconvert --to script optimization_model.ipynb`"
   ]
  },
  {
   "cell_type": "code",
   "execution_count": 1,
   "metadata": {},
   "outputs": [],
   "source": [
    "import time\n",
    "import pandas as pd\n",
    "import matplotlib.pyplot as plt"
   ]
  },
  {
   "cell_type": "markdown",
   "metadata": {},
   "source": [
    "## Load precomputed combinations to save computation time"
   ]
  },
  {
   "cell_type": "code",
   "execution_count": 2,
   "metadata": {},
   "outputs": [],
   "source": [
    "comb_df = pd.read_pickle(\"../precompute_combinations/precomputed_combinations_df.pkl\")\n",
    "\n",
    "# Set indices for faster accession\n",
    "comb_df[\"new_index\"] = comb_df[\"n\"] * 1201 + comb_df[\"k\"]\n",
    "comb_df.set_index(\"new_index\", inplace=True)\n",
    "comb_df.sort_index(inplace=True)\n",
    "\n",
    "def choose(n, k):\n",
    "    index = n * 1201 + k\n",
    "    return comb_df.loc[index, \"n_choose_k\"]"
   ]
  },
  {
   "cell_type": "markdown",
   "metadata": {},
   "source": [
    "## Probabilities based on our data analysis"
   ]
  },
  {
   "cell_type": "code",
   "execution_count": 3,
   "metadata": {},
   "outputs": [],
   "source": [
    "# Approximate probability of a goal in a given second\n",
    "seconds_in_game = 20 * 60 * 3\n",
    "\n",
    "# Probability of a goal in a given second during 5v5\n",
    "p_a1 = 5.18 * 10**-4\n",
    "p_b1 = p_a1\n",
    "\n",
    "# Probability of the other team scoring during 6v5 increases\n",
    "p_b2 = 7.85 * 10**-4\n",
    "\n",
    "# Probability of our team scoring during 6v5 also increases, though not as much\n",
    "p_a1 = 7.22 * 10**-4"
   ]
  },
  {
   "cell_type": "markdown",
   "metadata": {},
   "source": [
    "## Inputs to model"
   ]
  },
  {
   "cell_type": "code",
   "execution_count": 4,
   "metadata": {},
   "outputs": [],
   "source": [
    "# Let's say the current score is 1 - 3\n",
    "a_0 = 1\n",
    "b_0 = 3\n",
    "\n",
    "# 5 minutes left in the game\n",
    "T = 5 * 60"
   ]
  },
  {
   "cell_type": "markdown",
   "metadata": {},
   "source": [
    "## Brute force every choice of $s$\n",
    "\n",
    "This runs out of memory if run on my local computer. Laumching via slurm on SCC instead."
   ]
  },
  {
   "cell_type": "code",
   "execution_count": 8,
   "metadata": {},
   "outputs": [
    {
     "data": {
      "text/plain": [
       "'Pull time: 1, num_arrangements: 89401 Probability of success: 1.6182, Compute time: 1.92'"
      ]
     },
     "metadata": {},
     "output_type": "display_data"
    },
    {
     "name": "stderr",
     "output_type": "stream",
     "text": [
      "/var/folders/nn/pb4b1kzx12vbp6sgl69b77rw0000gp/T/ipykernel_51399/3144658535.py:55: FutureWarning: The behavior of DataFrame concatenation with empty or all-NA entries is deprecated. In a future version, this will no longer exclude empty or all-NA columns when determining the result dtypes. To retain the old behavior, exclude the relevant entries before the concat operation.\n",
      "  decisions_df = pd.concat(\n"
     ]
    },
    {
     "ename": "",
     "evalue": "",
     "output_type": "error",
     "traceback": [
      "\u001b[1;31mThe Kernel crashed while executing code in the current cell or a previous cell. \n",
      "\u001b[1;31mPlease review the code in the cell(s) to identify a possible cause of the failure. \n",
      "\u001b[1;31mClick <a href='https://aka.ms/vscodeJupyterKernelCrash'>here</a> for more info. \n",
      "\u001b[1;31mView Jupyter <a href='command:jupyter.viewOutput'>log</a> for further details."
     ]
    }
   ],
   "source": [
    "decisions_df = pd.DataFrame(columns = [\n",
    "    'pull_time',\n",
    "    'prob_success',\n",
    "    'compute_time'])\n",
    "\n",
    "#  Try out each possible time to pull the goalie\n",
    "for s in range(1, T):\n",
    "\n",
    "    # Timing for performance metrics\n",
    "    start_time = time.time()\n",
    "\n",
    "    prob_success = 0\n",
    "\n",
    "    num_arrangements = 0\n",
    "\n",
    "    # Number of goals scored by other team before pulling the goalie\n",
    "    for g_b1 in range(0, s):\n",
    "        prob_gb1 = choose(s, g_b1) * (p_b1 ** g_b1) * ((1 - p_b1) ** (s - g_b1))\n",
    "\n",
    "        # Number of goals scored by our team before pulling the goalie\n",
    "        for g_a1 in range(0, s):\n",
    "            prob_ga1 = choose(s, g_a1) * (p_a1 ** g_a1) * ((1 - p_a1) ** (s - g_a1))\n",
    "\n",
    "            # Number of goals scored by other team after pulling the goalie\n",
    "            for g_b2 in range(0, T - s):\n",
    "                prob_gb2 = choose(T - s, g_b2) * (p_b2 ** g_b2) * ((1 - p_b2) ** (T - s - g_b2))\n",
    "\n",
    "                # Number of goals scored by our team after pulling the goalie\n",
    "                for g_a2 in range(0, T - s):\n",
    "                    num_arrangements += 1\n",
    "                    # display(f\"Current arrangement: g_b1={g_b1}, g_a1={g_a1}, g_b2={g_b2}, g_a2={g_a2}\")\n",
    "\n",
    "                    prob_ga2 = choose(T - s, g_a2) * (p_a1 ** g_a2) * ((1 - p_a1) ** (T - s - g_a2))\n",
    "\n",
    "                    # Probability of this event\n",
    "                    prob = prob_gb1 * prob_ga1 * prob_gb2 * prob_ga2\n",
    "\n",
    "                    # Update the score\n",
    "                    a = a_0 + g_a1 + g_a2\n",
    "                    b = b_0 + g_b1 + g_b2\n",
    "\n",
    "                    # Success if we win or tie\n",
    "                    success = (a >= b)\n",
    "\n",
    "                    prob_success = prob_success + prob * success\n",
    "    \n",
    "    prob_success = round(prob_success * 100, 4)\n",
    "\n",
    "    end_time = time.time()\n",
    "    elapsed_time = end_time - start_time\n",
    "    elapsed_time = round(elapsed_time, 2)\n",
    "\n",
    "    display(f\"Pull time: {s}, num_arrangements: {num_arrangements} Probability of success: {prob_success}, Compute time: {elapsed_time}\")\n",
    "\n",
    "    decisions_df = pd.concat(\n",
    "        [\n",
    "            decisions_df,\n",
    "            pd.DataFrame({\n",
    "                \"pull_time\": s,\n",
    "                \"prob_success\": prob_success,\n",
    "                \"compute_time\": elapsed_time\n",
    "            }, index=[0]),\n",
    "        ], ignore_index=True\n",
    "    )\n",
    "\n",
    "display(decisions_df)"
   ]
  },
  {
   "cell_type": "markdown",
   "metadata": {},
   "source": [
    "## Select the optimal choice"
   ]
  },
  {
   "cell_type": "code",
   "execution_count": null,
   "metadata": {},
   "outputs": [],
   "source": [
    "optimal_index = decisions_df[\"prob_success\"].idxmax()\n",
    "optimal_time = decisions_df.loc[optimal_index, \"pull_time\"]\n",
    "optimal_prob = decisions_df.loc[optimal_index, \"prob_success\"]\n",
    "\n",
    "print(f\"Optimal time to pull the goalie: {optimal_time} seconds, resulting in a probability of {optimal_prob} of winning or tying the game.\")\n",
    "\n",
    "# Plot pull time vs probability of success\n",
    "plt.plot(decisions_df[\"pull_time\"], decisions_df[\"prob_success\"])"
   ]
  }
 ],
 "metadata": {
  "kernelspec": {
   "display_name": "general_purpose_venv",
   "language": "python",
   "name": "python3"
  },
  "language_info": {
   "codemirror_mode": {
    "name": "ipython",
    "version": 3
   },
   "file_extension": ".py",
   "mimetype": "text/x-python",
   "name": "python",
   "nbconvert_exporter": "python",
   "pygments_lexer": "ipython3",
   "version": "3.12.3"
  }
 },
 "nbformat": 4,
 "nbformat_minor": 2
}
