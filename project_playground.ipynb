{
 "cells": [
  {
   "cell_type": "code",
   "execution_count": 1,
   "metadata": {},
   "outputs": [],
   "source": [
    "import math\n",
    "import time\n",
    "import pandas as pd"
   ]
  },
  {
   "cell_type": "markdown",
   "metadata": {},
   "source": [
    "## Load precomputed combinations to save computation time"
   ]
  },
  {
   "cell_type": "code",
   "execution_count": null,
   "metadata": {},
   "outputs": [],
   "source": [
    "comb_df = pd.read_pickle(\"precompute_combinations/precomputed_combinations_df.pkl\")\n",
    "\n",
    "def choose(n, k):\n",
    "    return comb_df.loc[(comb_df[\"n\"] == n) & (comb_df[\"k\"] == k), \"n_choose_k\"].values[0]"
   ]
  },
  {
   "cell_type": "markdown",
   "metadata": {},
   "source": [
    "## Load probabilities"
   ]
  },
  {
   "cell_type": "code",
   "execution_count": 2,
   "metadata": {},
   "outputs": [],
   "source": [
    "# Approximate probability of a goal in a given second\n",
    "seconds_in_game = 20 * 60 * 3\n",
    "p_a1 = 3.12 / seconds_in_game\n",
    "p_b1 = p_a1\n",
    "\n",
    "# Probability of the other team scoring during 6v5 increases\n",
    "p_b2 = 1.5 * p_b1\n",
    "\n",
    "# Probability of our team scoring during 6v5 also increases, though not as much\n",
    "p_a1 = 1.25 * p_a1\n",
    "\n",
    "# Let's say the current score is 1 - 3\n",
    "a_0 = 1\n",
    "b_0 = 3\n",
    "\n",
    "# 5 minutes left in the game\n",
    "T = 5 * 60"
   ]
  },
  {
   "cell_type": "code",
   "execution_count": null,
   "metadata": {},
   "outputs": [],
   "source": [
    "decisions_df = pd.DataFrame(columns = [\n",
    "    'pull_time',\n",
    "    'prob_success',\n",
    "    'compute_time'])\n",
    "\n",
    "#  Try out each possible time to pull the goalie\n",
    "for i in range(0, int(T/10)):\n",
    "    s = i * 10\n",
    "    start_time = time.time()\n",
    "\n",
    "    prob_success = 0\n",
    "\n",
    "    # Number of goals scored by other team before pulling the goalie\n",
    "    for g_b1 in range(0, s):\n",
    "        prob_gb1 = choose(s, g_b1) * (p_b1 ** g_b1) * ((1 - p_b1) ** (s - g_b1))\n",
    "\n",
    "        # Number of goals scored by our team before pulling the goalie\n",
    "        for g_a1 in range(0, s):\n",
    "            prob_ga1 = choose(s, g_a1) * (p_a1 ** g_a1) * ((1 - p_a1) ** (s - g_a1))\n",
    "\n",
    "            # Number of goals scored by other team after pulling the goalie\n",
    "            for g_b2 in range(0, T - s):\n",
    "                prob_gb2 = choose(T - s, g_b2) * (p_b2 ** g_b2) * ((1 - p_b2) ** (T - s - g_b2))\n",
    "\n",
    "                # Number of goals scored by our team after pulling the goalie\n",
    "                for g_a2 in range(0, T - s):\n",
    "                    prob_ga2 = choose(T - s, g_a2) * (p_a1 ** g_a2) * ((1 - p_a1) ** (T - s - g_a2))\n",
    "\n",
    "                    # Probability of this event\n",
    "                    prob = prob_gb1 * prob_ga1 * prob_gb2 * prob_ga2\n",
    "\n",
    "                    # Update the score\n",
    "                    a = a_0 + g_a1 + g_a2\n",
    "                    b = b_0 + g_b1 + g_b2\n",
    "\n",
    "                    # Success if we win or tie\n",
    "                    success = (a >= b)\n",
    "\n",
    "                    prob_success = prob_success + prob * success\n",
    "    end_time = time.time()\n",
    "    elapsed_time = end_time - start_time\n",
    "\n",
    "    decisions_df = pd.concat(\n",
    "        [\n",
    "            decisions_df,\n",
    "            pd.DataFrame({\n",
    "                \"pull_time\": s,\n",
    "                \"prob_success\": prob_success,\n",
    "                \"compute_time\": elapsed_time\n",
    "            }, index=[0]),\n",
    "        ], ignore_index=True\n",
    "    )\n",
    "\n",
    "display(decisions_df)"
   ]
  },
  {
   "cell_type": "markdown",
   "metadata": {},
   "source": [
    "'Choosing to pull the goalie at 0 seconds gives a 0.00% chance of success (took 0.00 seconds to compute)'\n",
    "'Choosing to pull the goalie at 10 seconds gives a 3.01% chance of success (took 15.67 seconds to compute)'\n",
    "'Choosing to pull the goalie at 20 seconds gives a 3.02% chance of success (took 54.81 seconds to compute)'\n",
    "'Choosing to pull the goalie at 30 seconds gives a 3.04% chance of success (took 107.84 seconds to compute)'\n",
    "'Choosing to pull the goalie at 40 seconds gives a 3.05% chance of success (took 177.16 seconds to compute)'\n",
    "'Choosing to pull the goalie at 60 seconds gives a 3.07% chance of success (took 295.79 seconds to compute)'\n",
    "'Choosing to pull the goalie at 70 seconds gives a 3.08% chance of success (took 357.98 seconds to compute)'\n",
    "'Choosing to pull the goalie at 150 seconds gives a 3.18% chance of success (took 425.45 seconds to compute)'"
   ]
  }
 ],
 "metadata": {
  "kernelspec": {
   "display_name": "general_purpose_venv",
   "language": "python",
   "name": "python3"
  },
  "language_info": {
   "codemirror_mode": {
    "name": "ipython",
    "version": 3
   },
   "file_extension": ".py",
   "mimetype": "text/x-python",
   "name": "python",
   "nbconvert_exporter": "python",
   "pygments_lexer": "ipython3",
   "version": "3.12.3"
  }
 },
 "nbformat": 4,
 "nbformat_minor": 2
}
